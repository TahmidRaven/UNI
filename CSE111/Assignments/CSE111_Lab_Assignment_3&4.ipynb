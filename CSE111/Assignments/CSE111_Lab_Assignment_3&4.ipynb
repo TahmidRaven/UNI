{
 "cells": [
  {
   "cell_type": "code",
   "execution_count": 32,
   "metadata": {},
   "outputs": [
    {
     "name": "stdout",
     "output_type": "stream",
     "text": [
      "Name: A\n",
      "Weight: 63.0\n",
      "Height: 158.0\n",
      "BMI: 25.236340330075304\n",
      "====================\n",
      "Name: B\n",
      "Weight: 61.0\n",
      "Height: 149.0\n",
      "BMI: 27.476239809017613\n"
     ]
    }
   ],
   "source": [
    "# Task 1\n",
    "\n",
    "class Patient:\n",
    "    def __init__(self,n,a,w,h):\n",
    "        self.name = n\n",
    "        self.age = a\n",
    "        self.weight = w\n",
    "        self.height = h\n",
    "\n",
    "\n",
    "\n",
    "    def printDetails(self):\n",
    "        bmi = self.weight/((self.height/100)**2)\n",
    "        print(f\"Name: {self.name}\")\n",
    "        print(f\"Weight: {self.weight}\")\n",
    "        print(f\"Height: {self.height}\")\n",
    "        print(f\"BMI: {bmi}\")\n",
    "\n",
    "\n",
    "\n",
    "\n",
    "# Write your code here\n",
    "p1 = Patient(\"A\", 55, 63.0, 158.0)\n",
    "p1.printDetails()\n",
    "print(\"====================\")\n",
    "p2 = Patient(\"B\", 53, 61.0, 149.0)\n",
    "p2.printDetails()\n",
    "\n"
   ]
  },
  {
   "cell_type": "code",
   "execution_count": 7,
   "metadata": {},
   "outputs": [
    {
     "name": "stdout",
     "output_type": "stream",
     "text": [
      "Area: 125.0 \n",
      "==========================\n",
      "Area: 100 \n",
      "==========================\n",
      "Area: 225.0 \n",
      "==========================\n",
      "Area: 450 \n",
      "==========================\n",
      "Area: Shape Unknown \n"
     ]
    }
   ],
   "source": [
    "#Task2\n",
    "\n",
    "class Shape:\n",
    "    def __init__(self,name,side1,side2):\n",
    "        self.name = name\n",
    "        self.side1 = side1          \n",
    "        self.side2 = side2\n",
    "        \n",
    "    def area(self):\n",
    "            if self.name == \"Triangle\" or self.name==\"Rhombus\":\n",
    "                area = .5*self.side1*self.side2\n",
    "            \n",
    "            elif self.name == \"Square\" or self.name==\"Rectangle\":\n",
    "                area = self.side1*self.side2\n",
    "            else:\n",
    "                area = \"Shape Unknown\"\n",
    "            \n",
    "            print(f\"Area: {area} \")\n",
    "\n",
    "# Write your code here\n",
    "triangle = Shape(\"Triangle\",10,25)\n",
    "triangle.area()\n",
    "print(\"==========================\")\n",
    "square = Shape(\"Square\",10,10)\n",
    "square.area()\n",
    "print(\"==========================\")\n",
    "rhombus = Shape(\"Rhombus\",18,25)\n",
    "rhombus.area()\n",
    "print(\"==========================\")\n",
    "rectangle = Shape(\"Rectangle\",15,30)\n",
    "rectangle.area()\n",
    "print(\"==========================\")\n",
    "trapezium = Shape(\"Trapezium\",15,30)\n",
    "trapezium.area()\n"
   ]
  },
  {
   "cell_type": "code",
   "execution_count": 21,
   "metadata": {},
   "outputs": [
    {
     "name": "stdout",
     "output_type": "stream",
     "text": [
      "Calculator is ready!\n",
      "==================\n",
      "Returned value: 30\n",
      "10 + 20 = 30\n",
      "==================\n",
      "Returned value: 20\n",
      "30 - 10 = 20\n",
      "==================\n",
      "Returned value: 100\n",
      "20 * 5 = 100\n",
      "==================\n",
      "Returned value: 6.25\n",
      "100 / 16 = 6.25\n"
     ]
    }
   ],
   "source": [
    "# Task 3\n",
    "\n",
    "class Calculator:\n",
    "    def __init__(self):\n",
    "        print(\"Calculator is ready!\")\n",
    "        \n",
    "    def calculate(self,v1,v2,sign):\n",
    "        self.v1 = v1\n",
    "        self.v2 = v2\n",
    "        self.sign = sign\n",
    "        \n",
    "        if sign == \"+\":\n",
    "            self.ret = v1 + v2\n",
    "        elif sign == \"-\":\n",
    "            self.ret = v1 - v2\n",
    "        elif sign == \"*\":\n",
    "            self.ret = v1 * v2\n",
    "        elif sign == \"/\":\n",
    "            self.ret = v1 / v2\n",
    "        return self.ret\n",
    "    \n",
    "    def showCalculation(self):\n",
    "        print(self.v1,self.sign, self.v2,\"=\", self.ret)\n",
    "        \n",
    "        \n",
    "\n",
    "# Write your code here\n",
    "c1 = Calculator()\n",
    "print(\"==================\")\n",
    "val = c1.calculate(10, 20, '+')\n",
    "print(\"Returned value:\", val)\n",
    "c1.showCalculation()\n",
    "print(\"==================\")\n",
    "val = c1.calculate(val, 10, '-')\n",
    "print(\"Returned value:\", val)\n",
    "c1.showCalculation()\n",
    "print(\"==================\")\n",
    "val = c1.calculate(val, 5, '*')\n",
    "print(\"Returned value:\", val)\n",
    "c1.showCalculation()\n",
    "print(\"==================\")\n",
    "val = c1.calculate(val, 16, '/')\n",
    "print(\"Returned value:\", val)\n",
    "c1.showCalculation()\n"
   ]
  },
  {
   "cell_type": "code",
   "execution_count": null,
   "metadata": {},
   "outputs": [],
   "source": [
    "class Customer:\n",
    "    def __init__(self,name):\n",
    "        "
   ]
  },
  {
   "cell_type": "code",
   "execution_count": 1,
   "metadata": {},
   "outputs": [
    {
     "name": "stdout",
     "output_type": "stream",
     "text": [
      "Hello!\n",
      "Sam, you purchased 3 items(s) \n",
      "chips\n",
      "chocolate\n",
      "orange juice\n",
      "-----------------------------\n",
      "Hello David!\n",
      "David, you purchased 1 items(s) \n",
      "orange juice\n"
     ]
    }
   ],
   "source": [
    "#task 6\n",
    "class Customer:\n",
    "  def __init__(self,name):\n",
    "    self.name=name\n",
    "  def greet(self,a=None):\n",
    "    if a == None:\n",
    "      print('Hello!')\n",
    "    else:\n",
    "      print(f'Hello {a}!')\n",
    "  def purchase(self,*args):\n",
    "    print(f'{self.name}, you purchased {len(args)} items(s) ')\n",
    "    for i in args:\n",
    "      print(i)\n",
    "\n",
    "customer_1 = Customer(\"Sam\")\n",
    "customer_1.greet()\n",
    "customer_1.purchase(\"chips\", \"chocolate\", \"orange juice\")\n",
    "print(\"-----------------------------\")\n",
    "customer_2 = Customer(\"David\")\n",
    "customer_2.greet(\"David\")\n",
    "customer_2.purchase(\"orange juice\")"
   ]
  },
  {
   "cell_type": "code",
   "execution_count": 45,
   "metadata": {},
   "outputs": [],
   "source": [
    "# class Programmer:\n",
    "#     def __init__(self, name, prog, exp):\n",
    "        \n",
    "        "
   ]
  },
  {
   "cell_type": "code",
   "execution_count": null,
   "metadata": {},
   "outputs": [],
   "source": [
    "class Batsman:\n",
    "    def __init__"
   ]
  },
  {
   "cell_type": "code",
   "execution_count": 44,
   "metadata": {},
   "outputs": [
    {
     "name": "stdout",
     "output_type": "stream",
     "text": [
      "Author Name: Humayun Ahmed \n",
      "---------\n",
      "List of Books:\n",
      "Deyal\n",
      "Megher Opor Bari\n",
      "===================\n",
      "Default\n",
      "===================\n",
      "Author Name: Mario Puzo \n",
      "---------\n",
      "List of Books:\n",
      "The Godfather\n",
      "Omerta\n",
      "The Sicilian\n",
      "===================\n",
      "Author Name: Paolo Coelho \n",
      "---------\n",
      "List of Books:\n",
      "The Alchemist\n",
      "The Fifth Mountain\n"
     ]
    }
   ],
   "source": [
    "\n",
    "class Author:\n",
    "    def __init__(self, name=\"Default\",*args):\n",
    "        self.name= name\n",
    "        self.book= []\n",
    "        for i in args:\n",
    "            self.book.append(i)\n",
    "        \n",
    "    def addBooks(self, *args):\n",
    "        for i in args:\n",
    "            self.book.append(i)\n",
    "    \n",
    "    def changeName(self,newname):\n",
    "        self.name=newname\n",
    "    def printDetails(self):\n",
    "        print(f\"Author Name: {self.name} \\n---------\")\n",
    "        \n",
    "        print(f\"List of Books:\")\n",
    "        for i in self.book:\n",
    "            print(i)\n",
    "            \n",
    "# Write your code here\n",
    "auth1 = Author('Humayun Ahmed')\n",
    "auth1.addBooks('Deyal', 'Megher Opor Bari')\n",
    "auth1.printDetails()\n",
    "print(\"===================\")\n",
    "auth2 = Author()\n",
    "print(auth2.name)\n",
    "auth2.changeName('Mario Puzo')\n",
    "auth2.addBooks('The Godfather', 'Omerta', 'The Sicilian')\n",
    "print(\"===================\")\n",
    "auth2.printDetails()\n",
    "print(\"===================\")\n",
    "auth3 = Author('Paolo Coelho', 'The Alchemist', 'The Fifth Mountain')\n",
    "auth3.printDetails()\n"
   ]
  },
  {
   "cell_type": "code",
   "execution_count": 46,
   "metadata": {},
   "outputs": [
    {
     "name": "stdout",
     "output_type": "stream",
     "text": [
      "Name: New Batsman\n",
      "Runs: 6101 ,Ball Faced: 7380\n",
      "============================\n",
      "Name: Liton Das\n",
      "Runs: 678 ,Ball Faced: 773\n",
      "----------------------------\n",
      "87.71021992238033\n",
      "============================\n",
      "Name: Shakib Al Hasan\n",
      "Runs: 6101 ,Ball Faced: 7380\n",
      "----------------------------\n",
      "82.66937669376694\n"
     ]
    }
   ],
   "source": [
    "#task-9\n",
    "class Batsman:\n",
    "  def __init__(self,*info):\n",
    "    if len(info)==3:\n",
    "      self.name=info[0]\n",
    "      self.run=info[1]\n",
    "      self.b_f=info[2]\n",
    "    else:\n",
    "      self.name=\"New Batsman\" \n",
    "      self.run=info[0]\n",
    "      self.b_f=info[1]\n",
    "\n",
    "  def battingStrikeRate(self):\n",
    "    return (self.run/self.b_f)*100\n",
    "\n",
    "  def setName(self,new_name):\n",
    "    self.name=new_name\n",
    "\n",
    "  def printCareerStatistics(self):\n",
    "    print(\"Name:\",self.name)\n",
    "    print(\"Runs:\",self.run,\",Ball Faced:\",self.b_f)\n",
    "\n",
    "b1 = Batsman(6101, 7380)\n",
    "b1.printCareerStatistics()\n",
    "print(\"============================\")\n",
    "b2 = Batsman(\"Liton Das\", 678, 773)\n",
    "b2.printCareerStatistics()\n",
    "print(\"----------------------------\")\n",
    "print(b2.battingStrikeRate())\n",
    "print(\"============================\")\n",
    "b1.setName(\"Shakib Al Hasan\")\n",
    "b1.printCareerStatistics()\n",
    "print(\"----------------------------\")\n",
    "print(b1.battingStrikeRate())"
   ]
  }
 ],
 "metadata": {
  "kernelspec": {
   "display_name": "Python 3.9.5 64-bit",
   "language": "python",
   "name": "python3"
  },
  "language_info": {
   "codemirror_mode": {
    "name": "ipython",
    "version": 3
   },
   "file_extension": ".py",
   "mimetype": "text/x-python",
   "name": "python",
   "nbconvert_exporter": "python",
   "pygments_lexer": "ipython3",
   "version": "3.9.5"
  },
  "orig_nbformat": 4,
  "vscode": {
   "interpreter": {
    "hash": "b671c20432fcd147198c92e7f072af9e705f087eb990bee22b07f08caab9f630"
   }
  }
 },
 "nbformat": 4,
 "nbformat_minor": 2
}
