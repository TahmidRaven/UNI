{
 "cells": [
  {
   "cell_type": "code",
   "execution_count": 1,
   "metadata": {},
   "outputs": [
    {
     "name": "stdout",
     "output_type": "stream",
     "text": [
      "====================\n",
      "Team: Bangladesh \n",
      "List of Players:\n",
      "['Mashrafi', 'Tamim']\n",
      "====================\n",
      "====================\n",
      "Team: Australia \n",
      "List of Players:\n",
      "['Ponting', 'Lee']\n",
      "====================\n"
     ]
    }
   ],
   "source": [
    "#Task-3\n",
    "class Team:\n",
    "  def __init__(self,n=None):\n",
    "    self.__name=n\n",
    "    self.__player=[]\n",
    "  def setName(self,a):\n",
    "    self.__name=a\n",
    "\n",
    "  def addPlayer(self,c):\n",
    "    self.__player.append(c.name)\n",
    "\n",
    "  def printDetail(self):\n",
    "    print('====================')\n",
    "    print(f'Team: {self.__name} \\nList of Players:')\n",
    "    print(self.__player)\n",
    "    print('====================')\n",
    "class Player:\n",
    "  def __init__(self,n):\n",
    "    self.name=n\n",
    "\n",
    "b = Team()\n",
    "b.setName('Bangladesh')\n",
    "mashrafi = Player(\"Mashrafi\")\n",
    "b.addPlayer(mashrafi)\n",
    "tamim = Player(\"Tamim\")\n",
    "b.addPlayer(tamim)\n",
    "b.printDetail()\n",
    "a = Team(\"Australia\")\n",
    "ponting = Player(\"Ponting\")\n",
    "a.addPlayer(ponting)\n",
    "lee = Player(\"Lee\")\n",
    "a.addPlayer(lee)\n",
    "a.printDetail()"
   ]
  },
  {
   "cell_type": "code",
   "execution_count": 2,
   "metadata": {},
   "outputs": [
    {
     "name": "stdout",
     "output_type": "stream",
     "text": [
      "Color formed: Orange\n"
     ]
    }
   ],
   "source": [
    "#Task-4\n",
    "class Color:\n",
    "  def __init__(self,c):\n",
    "    self.clr=c\n",
    "  def __add__(self,obj):\n",
    "    if (self.clr == 'red' and obj.clr == 'yellow') or (self.clr == 'yellow' and obj.clr == 'red'):\n",
    "      return Color('Orange')\n",
    "    if (self.clr == 'red' and obj.clr == 'blue') or (self.clr == 'blue' and obj.clr == 'red'):\n",
    "      return Color('Violet')\n",
    "    if (self.clr == 'blue' and obj.clr == 'yellow') or (self.clr == 'yellow' and obj.clr == 'blue'):\n",
    "      return Color('Green')\n",
    "\n",
    "C1 = Color(input(\"First Color: \").lower())\n",
    "C2 = Color(input(\"Second Color: \").lower())\n",
    "C3 = C1 + C2\n",
    "print(\"Color formed:\", C3.clr)"
   ]
  },
  {
   "cell_type": "code",
   "execution_count": 5,
   "metadata": {},
   "outputs": [
    {
     "name": "stdout",
     "output_type": "stream",
     "text": [
      "First Triangle Base: 10\n",
      "First Triangle Height: 5\n",
      "First Triangle area: 25.0\n",
      "Second Triangle Base: 5\n",
      "Second Triangle Height: 3\n",
      "Second Triangle area: 7.5\n",
      "Third Triangle Base: 5\n",
      "Third Triangle Height: 2\n",
      "Third Triangle area: 5.0\n"
     ]
    }
   ],
   "source": [
    "#Task-6\n",
    "\n",
    "class Triangle:\n",
    "    def __init__(self,b,h):\n",
    "        self.__base = b\n",
    "        self.__height= h\n",
    "    \n",
    "    def getBase(self):\n",
    "        return self.__base\n",
    "    def getHeight(self):\n",
    "        return self.__height\n",
    "    def setBase(self,base):\n",
    "        return self.__base == base\n",
    "    def setHeight(self,height):\n",
    "        return self.__height == height\n",
    "    \n",
    "    def area(self):\n",
    "        return (.5*self.__base*self.__height)\n",
    "    \n",
    "    def __sub__(self,obj):\n",
    "        return Triangle((self.getBase()-obj.getBase()),(self.getHeight()-obj.getHeight()))\n",
    "    \n",
    "    \n",
    "    \n",
    "        \n",
    "\n",
    "# Write your code here for subtasks 1-5\n",
    "    \n",
    "t1 = Triangle(10, 5)\n",
    "print(\"First Triangle Base:\" , t1.getBase())\n",
    "print(\"First Triangle Height:\" , t1.getHeight())\n",
    "print(\"First Triangle area:\" ,t1.area())\n",
    " \n",
    "t2 = Triangle(5, 3)\n",
    "print(\"Second Triangle Base:\" , t2.getBase())\n",
    "print(\"Second Triangle Height:\" , t2.getHeight())\n",
    "print(\"Second Triangle area:\" ,t2.area())\n",
    " \n",
    "t3 = t1 - t2 \n",
    "print(\"Third Triangle Base:\" , t3.getBase())\n",
    "print(\"Third Triangle Height:\" , t3.getHeight())\n",
    "print(\"Third Triangle area:\" ,t3.area()) \n",
    "\n"
   ]
  },
  {
   "cell_type": "code",
   "execution_count": 6,
   "metadata": {},
   "outputs": [
    {
     "name": "stdout",
     "output_type": "stream",
     "text": [
      "First Triangle Base: 10\n",
      "First Triangle Height: 5\n",
      "First Triangle area: 25.0\n",
      "Second Triangle Base: 5\n",
      "Second Triangle Height: 3\n",
      "Second Triangle area: 7.5\n",
      "Third Triangle Base: 5\n",
      "Third Triangle Height: 2\n",
      "Third Triangle area: 5.0\n"
     ]
    }
   ],
   "source": [
    "#Task-6\n",
    "class Triangle:\n",
    "  def __init__(self,x,y):\n",
    "    self.__base=x\n",
    "    self.__height=y\n",
    "  def getBase(self):\n",
    "    return self.__base\n",
    "  def setBase(self,j):\n",
    "    self.__base=j\n",
    "  def getHeight(self):\n",
    "    return self.__height\n",
    "  def setHeight(self,i):\n",
    "    self.__height=i\n",
    "  def area(self):\n",
    "    area=0.5*self.__base*self.__height\n",
    "    return area\n",
    "  def __sub__(self,obj):\n",
    "    return Triangle((self.getBase()-obj.getBase()),(self.getHeight()-obj.getHeight()))\n",
    "\n",
    "t1 = Triangle(10, 5)\n",
    "print(\"First Triangle Base:\" , t1.getBase())\n",
    "print(\"First Triangle Height:\" , t1.getHeight())\n",
    "print(\"First Triangle area:\" ,t1.area())\n",
    "t2 = Triangle(5, 3)\n",
    "print(\"Second Triangle Base:\" , t2.getBase())\n",
    "print(\"Second Triangle Height:\" , t2.getHeight())\n",
    "print(\"Second Triangle area:\" ,t2.area())\n",
    "t3 = t1 - t2\n",
    "print(\"Third Triangle Base:\" , t3.getBase())\n",
    "print(\"Third Triangle Height:\" , t3.getHeight())\n",
    "print(\"Third Triangle area:\" ,t3.area())"
   ]
  },
  {
   "cell_type": "code",
   "execution_count": 10,
   "metadata": {},
   "outputs": [
    {
     "name": "stdout",
     "output_type": "stream",
     "text": [
      "Doll: Tweety \n",
      "Total Price: 2500\n",
      "Thank you!\n",
      "=========================\n",
      "Doll: Daffy Duck \n",
      "Total Price: 1800\n",
      "Thank you!\n",
      "=========================\n",
      "Doll: Bugs Bunny \n",
      "Total Price: 3000\n",
      "Congratulations! You get the Tweety as a gift!\n",
      "=========================\n",
      "Doll: Porky Pig \n",
      "Total Price: 1500\n",
      "Thank you!\n",
      "=========================\n",
      "Dolls: Daffy Duck Bugs Bunny \n",
      "Total Price: 4800\n",
      "Congratulations! You get the Tweety as a gift!\n"
     ]
    }
   ],
   "source": [
    "class Dolls:\n",
    "    def __init__(self,n,p):\n",
    "        self.name = n\n",
    "        self.price = p\n",
    "        self.flag = None\n",
    "    def __gt__(self, other):\n",
    "        if self.price > other.price:\n",
    "            return True\n",
    "        else:\n",
    "            return False\n",
    "    def __add__(self, other):\n",
    "        # obj = Dolls(f\"{self.name} {other.name}, ({self.price}+{obj.price})\")\n",
    "        obj=  Dolls((self.name + ' '+ other.name), (self.price+other.price))\n",
    "        \n",
    "        obj.flag = 1\n",
    "        return obj\n",
    "     \n",
    "    def detail(self):\n",
    "        if self.flag==None:\n",
    "            return(f'Doll: {self.name} \\nTotal Price: {self.price}')\n",
    "        else:\n",
    "           return(f'Dolls: {self.name} \\nTotal Price: {self.price}')\n",
    "        \n",
    "    # def detail(self):\n",
    "    #     print(f\"Doll: {self.name}\\nTotal Price: {self.price} taka\")\n",
    "\n",
    "# Write your code here\n",
    "\n",
    "obj_1 = Dolls(\"Tweety\", 2500)\n",
    "print(obj_1.detail())\n",
    "if obj_1 > obj_1:\n",
    "    print(\"Congratulations! You get the Tweety as a gift!\")\n",
    "else:\n",
    "    print(\"Thank you!\")\n",
    "\n",
    "print(\"=========================\")\n",
    "obj_2 = Dolls(\"Daffy Duck\", 1800) \n",
    "print(obj_2.detail())\n",
    "if obj_2 > obj_1:\n",
    "    print(\"Congratulations! You get the Tweety as a gift!\")\n",
    "else:\n",
    "    print(\"Thank you!\")\n",
    "\n",
    "print(\"=========================\")\n",
    "obj_3 = Dolls(\"Bugs Bunny\", 3000)\n",
    "print(obj_3.detail())\n",
    "if obj_3 > obj_1:\n",
    "    print(\"Congratulations! You get the Tweety as a gift!\")\n",
    "else:\n",
    "    print(\"Thank you!\")\n",
    "\n",
    "print(\"=========================\")\n",
    "obj_4 = Dolls(\"Porky Pig\", 1500)\n",
    "print(obj_4.detail())\n",
    "if obj_4 > obj_1:\n",
    "    print(\"Congratulations! You get the Tweety as a gift!\")\n",
    "else:\n",
    "    print(\"Thank you!\")\n",
    "\n",
    "print(\"=========================\")\n",
    "obj_5 = obj_2 + obj_3\n",
    "print(obj_5.detail())\n",
    "if obj_5 > obj_1:\n",
    "    print(\"Congratulations! You get the Tweety as a gift!\")\n",
    "else:\n",
    "    print(\"Thank you!\")\n",
    "\n"
   ]
  },
  {
   "cell_type": "code",
   "execution_count": null,
   "metadata": {},
   "outputs": [],
   "source": []
  },
  {
   "cell_type": "code",
   "execution_count": null,
   "metadata": {},
   "outputs": [],
   "source": []
  }
 ],
 "metadata": {
  "kernelspec": {
   "display_name": "Python 3.9.13 64-bit (microsoft store)",
   "language": "python",
   "name": "python3"
  },
  "language_info": {
   "codemirror_mode": {
    "name": "ipython",
    "version": 3
   },
   "file_extension": ".py",
   "mimetype": "text/x-python",
   "name": "python",
   "nbconvert_exporter": "python",
   "pygments_lexer": "ipython3",
   "version": "3.9.13"
  },
  "orig_nbformat": 4,
  "vscode": {
   "interpreter": {
    "hash": "43a24ecce625020f2d6631fb4cfb730bba30d877e9fe9ec2e0d85cb5a52a2b64"
   }
  }
 },
 "nbformat": 4,
 "nbformat_minor": 2
}
