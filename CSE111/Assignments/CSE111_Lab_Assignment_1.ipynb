{
 "cells": [
  {
   "cell_type": "markdown",
   "metadata": {},
   "source": [
    "                                **STRINGS**"
   ]
  },
  {
   "cell_type": "markdown",
   "metadata": {},
   "source": [
    "### Task 1\n",
    "\n",
    "From a given string, print the string in all uppercase if the number ofuppercase\n",
    "letters is more than lowercase letters. Otherwise, if lowercase is greater or equal\n",
    "to uppercase letters, print all lowercase. The inputs will contain letters (A-Z, a-z)\n",
    "only.\n",
    "\n",
    "=============================================================\n",
    "\n",
    "**Sample Input** : <br>HOusE <br>ApplE <br>BaNaNa \n",
    "\n",
    "**Sample Output** : <br>HOUSE <br>apple <br>banana\n",
    " "
   ]
  },
  {
   "cell_type": "markdown",
   "metadata": {},
   "source": [
    "\n",
    "<dev class= \"alert alert-block alert-warning\">\n",
    "    <b> Warning </b>: Just a markdown code\n",
    "</dev>"
   ]
  },
  {
   "cell_type": "code",
   "execution_count": 56,
   "metadata": {},
   "outputs": [
    {
     "name": "stdout",
     "output_type": "stream",
     "text": [
      "3 3\n",
      "banana\n"
     ]
    }
   ],
   "source": [
    "# # givenStr = \"Banana\"\n",
    "# # countUp = 0\n",
    "# # countLow = 0\n",
    "\n",
    "# # for i in givenStr:\n",
    "# #     if (i.isupper()) == True:\n",
    "# #         countUp += 1\n",
    "# #     elif (i.islower()) == True:\n",
    "# #         countLow +=1\n",
    "              \n",
    "# # if countUp > countLow:\n",
    "# #     print(givenStr.upper())\n",
    "# # else:\n",
    "# #     print(givenStr.lower())\n",
    "\n",
    "\n",
    "givenStr = \"BaNaNa\"\n",
    "countUp = 0\n",
    "countLow = 0\n",
    "newstr = \"x\"\n",
    "\n",
    "for i in givenStr:\n",
    "    if ord(i)>= 65 and ord(i)<= 90:\n",
    "        countUp += 1\n",
    "    if ord(i)>=97 and ord(i)<= 122:\n",
    "        countLow += 1\n",
    "        \n",
    "# print(countUp,countLow)\n",
    "\n",
    "if countUp > countLow:\n",
    "    print(givenStr.upper())\n",
    "if countLow >= countUp:\n",
    "    print(givenStr.lower())\n",
    "       \n",
    "       "
   ]
  },
  {
   "cell_type": "markdown",
   "metadata": {},
   "source": [
    "### Task 2\n",
    "\n",
    "Given a string, print whether it is a number, word or mixed with digit andletters.\n",
    "If all the characters are numeric values, print NUMBER. If they are all letters,\n",
    "print WORD. If it is mixed, print MIXED\n",
    "\n",
    "=======================================================\n",
    "\n",
    "**Sample Input** : <br>213213  <br>jhg231j213  <br>Hello\n",
    " \n",
    "**Sample Output**: <br>NUMBER  <br>MIXED <br>WORD\n",
    "\n"
   ]
  },
  {
   "cell_type": "code",
   "execution_count": 22,
   "metadata": {},
   "outputs": [
    {
     "name": "stdout",
     "output_type": "stream",
     "text": [
      "5 0 0\n",
      "WORD\n"
     ]
    }
   ],
   "source": [
    "givenStr = \"Hello\"\n",
    "\n",
    "numbers = [str(i) for i in range(0,10)]\n",
    "\n",
    "countInt = 0\n",
    "countLet = 0\n",
    "countMix = 0\n",
    "\n",
    "for i in givenStr:\n",
    "    if (ord(i)>= 65 and ord(i)<= 90) or ord(i)>=97 and ord(i)<= 122:\n",
    "        countLet += 1\n",
    "    elif i in numbers:\n",
    "        countInt += 1\n",
    "\n",
    "# print(countLet, countInt, countMix)\n",
    "\n",
    "if countLet >0 and countInt > 0:\n",
    "    print(\"MIXED\")\n",
    "elif countInt > 0:\n",
    "    print(\"NUMBER\")\n",
    "elif countLet > 0:\n",
    "    print(\"WORD\")"
   ]
  },
  {
   "cell_type": "markdown",
   "metadata": {},
   "source": [
    "### Task 3\n",
    "\n",
    "In a given string, there will be two uppercase letters in between some lowercase\n",
    "letters. Print the substring from the first uppercase letter to the last uppercase\n",
    "letter excluding them. If there are no letters in between them, print the word\n",
    "BLANK. It is guaranteed that there will be only two uppercase letters in the\n",
    "string\n",
    "\n",
    "=============================================================\n",
    "\n",
    "**Sample Input:** <br>baNgladEsh <br>coDIng \n",
    "\n",
    "**Sample Output:**<br>glad <br>BLANK"
   ]
  },
  {
   "cell_type": "code",
   "execution_count": 78,
   "metadata": {},
   "outputs": [
    {
     "name": "stdout",
     "output_type": "stream",
     "text": [
      "[2]\n",
      "\n",
      "0\n",
      "BLANK\n"
     ]
    }
   ],
   "source": [
    "givenStr = \"coDing\"\n",
    "ls = []\n",
    "\n",
    "for i in range(len(givenStr)):\n",
    "  if ord(givenStr[i])>=ord('A') and ord(givenStr[i])<=ord('Z'):\n",
    "    ls.append(i)\n",
    "\n",
    "print(ls) \n",
    "      \n",
    "newString=givenStr[ls[0]+1:ls[-1]]\n",
    "\n",
    "if len(newString)==0:\n",
    "  print('BLANK')\n",
    "else:\n",
    "  print(newString)\n",
    "\n"
   ]
  },
  {
   "cell_type": "markdown",
   "metadata": {},
   "source": [
    "### Task 4\n",
    "\n",
    "Create a string from two given strings by concatenating common characters of\n",
    "the given strings.\n",
    "\n",
    "==================================================\n",
    "\n",
    "**Sample Input:** <br>\n",
    "harry, hermione <br>dean, tom \n",
    "\n",
    "**Sample Output:** <br>hrrhr  <br>Nothing in common.\n",
    "\n",
    "\n",
    "\n",
    "\n"
   ]
  },
  {
   "cell_type": "code",
   "execution_count": 91,
   "metadata": {},
   "outputs": [
    {
     "name": "stdout",
     "output_type": "stream",
     "text": [
      "hrrhr\n"
     ]
    }
   ],
   "source": [
    "given1 = \"harry\"\n",
    "given2 = \"hermione\"\n",
    "output = \"\"\n",
    "\n",
    "for i in given1:\n",
    "    if i in given2:\n",
    "        output += i\n",
    "for i in given2:\n",
    "    if i in given1:\n",
    "        output += i\n",
    "\n",
    "if len(output) == 0:\n",
    "    print(\"Nothing in common\")\n",
    "else:\n",
    "    print(output)"
   ]
  },
  {
   "cell_type": "markdown",
   "metadata": {},
   "source": [
    "### Task 5\n",
    "\n",
    "Again, you have lost your USIS password!! You went to the registrar office\n",
    "and requested for a new password. This time, you need to follow some rules to\n",
    "set your password. Otherwise, they won't change it. The rules are\n",
    "At least one lowercase letter\n",
    "At least one uppercase letter\n",
    "At least one digit (0-9)\n",
    "At least one special character (_ , $ , #, @)\n",
    "Your task is to find whether a given password follows all those rules. If it breaks\n",
    "any rule, you have to print Lowercase Missing, Uppercase Missing, Digit Missing\n",
    "or Special Missing respective to the missing case. For more than one rule break,\n",
    "print all the rules that were broken (order doesn't matter). If the password is ok,\n",
    "print OK.\n",
    "\n",
    "===================================================\n",
    "\n",
    "**Sample Input:**\n",
    "\n",
    "ohMyBR@CU <br>\n",
    "ohmybracu <br>\n",
    "OhMyBR@CU20 <br>\n",
    "\n",
    "**Sample Output:**\n",
    "\n",
    "Digit missing <br>\n",
    "Uppercase character missing, Digit missing, Special character missing <br>\n",
    "OK <br>\n",
    "\n"
   ]
  },
  {
   "cell_type": "code",
   "execution_count": 114,
   "metadata": {},
   "outputs": [
    {
     "name": "stdout",
     "output_type": "stream",
     "text": [
      "2 6 0 1\n",
      "Digits missing, "
     ]
    }
   ],
   "source": [
    "\n",
    "givenPass = input(\"New Password:\")\n",
    "\n",
    "\n",
    "uppercase = [chr(i) for i in range(65,91)]\n",
    "lowercase = [chr(i) for i in range(97,123)]\n",
    "digits =    [str(i) for i in range(0,10)]\n",
    "specials  = ['_','$','#','@']\n",
    "\n",
    "countUp = 0\n",
    "countLow =0\n",
    "countDig = 0\n",
    "countSpec = 0\n",
    "\n",
    "for i in givenPass:\n",
    "    if i in uppercase:\n",
    "        countUp += 1\n",
    "    if i in lowercase:\n",
    "        countLow += 1\n",
    "    if i in digits:\n",
    "        countLow += 1\n",
    "    if i in specials:\n",
    "        countSpec += 1\n",
    "print(countUp, countLow, countDig, countSpec)\n",
    "\n",
    "if countUp == 0:\n",
    "    print(\"Uppercase Character missing\" , end=\", \")\n",
    "if countLow == 0:\n",
    "    print(\"Lowercase character missing\", end=\", \")\n",
    "if countDig == 0:\n",
    "    print(\"Digits missing\", end=\", \")\n",
    "if countSpec == 0:\n",
    "    print(\"Special character missing\")\n",
    "if countUp != 0 and  countLow != 0 and countDig != 0 and  countSpec !=0:\n",
    "  print('OK')\n",
    "\n",
    "    "
   ]
  },
  {
   "cell_type": "code",
   "execution_count": 116,
   "metadata": {},
   "outputs": [
    {
     "name": "stdout",
     "output_type": "stream",
     "text": [
      "OK\n",
      "2 3 2 3\n"
     ]
    }
   ],
   "source": [
    "### Task 5\n",
    "\n",
    "Newpassword= input(\"enter New Password:\")\n",
    "uppercase=[chr(i) for i in range(65,91)]\n",
    "lowercase=[chr(i) for i in range(97,123)]\n",
    "digits=[str(i) for i in range(0,10)]\n",
    "specials=['_','$','#','@']\n",
    "\n",
    "lowercaseCount=0\n",
    "uppercaseCount=0\n",
    "digitCount=0\n",
    "specialCount=0\n",
    "\n",
    "for i in Newpassword:\n",
    "  if i in uppercase:\n",
    "    uppercaseCount+=1\n",
    "  if i in lowercase:\n",
    "    lowercaseCount+=1\n",
    "  if i in digits:\n",
    "    digitCount+=1\n",
    "  if i in specials:\n",
    "    specialCount+=1\n",
    "\n",
    "if lowercaseCount == 0:\n",
    "  print('lowercase character missing', end=',')\n",
    "if uppercaseCount == 0:\n",
    "  print('uppercase character missing', end=',')\n",
    "if digitCount == 0:\n",
    "  print('Digit missing', end=',')\n",
    "if specialCount ==0:\n",
    "  print('Special character missing')\n",
    "if lowercaseCount != 0 and  uppercaseCount != 0 and digitCount != 0 and  specialCount !=0:\n",
    "  print('OK')\n",
    "  \n",
    "print(lowercaseCount,\n",
    "uppercaseCount,\n",
    "digitCount,\n",
    "specialCount\n",
    ")"
   ]
  },
  {
   "cell_type": "code",
   "execution_count": 119,
   "metadata": {},
   "outputs": [
    {
     "name": "stdout",
     "output_type": "stream",
     "text": [
      "[1, 2, 33, 33]\n",
      "{1: 1, 2: 1, 33: 2}\n",
      "1 - 1 items\n",
      "2 - 1 items\n",
      "33 - 2 items\n"
     ]
    }
   ],
   "source": [
    "#list task-1\n",
    "\n",
    "ls=[]\n",
    "\n",
    "while True:\n",
    "  userInp=input()\n",
    "  if userInp == \"STOP\":\n",
    "    break\n",
    "  userInp=int(userInp)\n",
    "  ls.append(userInp)\n",
    "print(ls) \n",
    "dict={}\n",
    "\n",
    "for i in range(len(ls)):\n",
    "  if ls[i] in dict:\n",
    "    dict[ls[i]]=dict[ls[i]]+1\n",
    "  else:\n",
    "    dict[ls[i]]=1\n",
    "print(dict\n",
    "      )\n",
    "for  i,j in dict.items():\n",
    "  print(f'{i} - {j} items')\n"
   ]
  }
 ],
 "metadata": {
  "kernelspec": {
   "display_name": "Python 3.9.5 64-bit",
   "language": "python",
   "name": "python3"
  },
  "language_info": {
   "codemirror_mode": {
    "name": "ipython",
    "version": 3
   },
   "file_extension": ".py",
   "mimetype": "text/x-python",
   "name": "python",
   "nbconvert_exporter": "python",
   "pygments_lexer": "ipython3",
   "version": "3.9.5"
  },
  "orig_nbformat": 4,
  "vscode": {
   "interpreter": {
    "hash": "b671c20432fcd147198c92e7f072af9e705f087eb990bee22b07f08caab9f630"
   }
  }
 },
 "nbformat": 4,
 "nbformat_minor": 2
}
