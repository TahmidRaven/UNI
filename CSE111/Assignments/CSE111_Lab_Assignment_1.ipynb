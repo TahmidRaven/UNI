{
 "cells": [
  {
   "cell_type": "markdown",
   "metadata": {},
   "source": [
    "                                **STRINGS**"
   ]
  },
  {
   "cell_type": "markdown",
   "metadata": {},
   "source": [
    "### Task 1\n",
    "\n",
    "From a given string, print the string in all uppercase if the number ofuppercase\n",
    "letters is more than lowercase letters. Otherwise, if lowercase is greater or equal\n",
    "to uppercase letters, print all lowercase. The inputs will contain letters (A-Z, a-z)\n",
    "only.\n",
    "\n",
    "=============================================================\n",
    "\n",
    "**Sample Input** : <br>HOusE <br>ApplE <br>BaNaNa \n",
    "\n",
    "**Sample Output** : <br>HOUSE <br>apple <br>banana\n",
    " "
   ]
  },
  {
   "cell_type": "markdown",
   "metadata": {},
   "source": [
    "\n",
    "<dev class= \"alert alert-block alert-warning\">\n",
    "    <b> Warning </b>: Just a markdown code\n",
    "</dev>"
   ]
  },
  {
   "cell_type": "markdown",
   "metadata": {},
   "source": [
    "### Task 2\n",
    "\n",
    "Given a string, print whether it is a number, word or mixed with digit andletters.\n",
    "If all the characters are numeric values, print NUMBER. If they are all letters,\n",
    "print WORD. If it is mixed, print MIXED\n",
    "\n",
    "=======================================================\n",
    "\n",
    "**Sample Input** : <br>213213  <br>jhg231j213  <br>Hello\n",
    " \n",
    "**Sample Output**: <br>NUMBER  <br>MIXED <br>WORD\n",
    "\n"
   ]
  },
  {
   "cell_type": "markdown",
   "metadata": {},
   "source": [
    "### Task 3\n",
    "\n",
    "In a given string, there will be two uppercase letters in between some lowercase\n",
    "letters. Print the substring from the first uppercase letter to the last uppercase\n",
    "letter excluding them. If there are no letters in between them, print the word\n",
    "BLANK. It is guaranteed that there will be only two uppercase letters in the\n",
    "string\n",
    "\n",
    "=============================================================\n",
    "\n",
    "**Sample Input:** <br>baNgladEsh <br>coDIng \n",
    "\n",
    "**Sample Output:**<br>glad <br>BLANK"
   ]
  },
  {
   "cell_type": "markdown",
   "metadata": {},
   "source": [
    "### Task 4\n",
    "\n",
    "Create a string from two given strings by concatenating common characters of\n",
    "the given strings.\n",
    "\n",
    "==================================================\n",
    "\n",
    "**Sample Input:** <br>\n",
    "harry, hermione <br>dean, tom \n",
    "\n",
    "**Sample Output:** <br>hrrhr  <br>Nothing in common.\n",
    "\n",
    "\n",
    "\n",
    "\n"
   ]
  },
  {
   "cell_type": "markdown",
   "metadata": {},
   "source": [
    "### Task 5\n",
    "\n",
    "Again, you have lost your USIS password!! You went to the registrar office\n",
    "and requested for a new password. This time, you need to follow some rules to\n",
    "set your password. Otherwise, they won't change it. The rules are\n",
    "At least one lowercase letter\n",
    "At least one uppercase letter\n",
    "At least one digit (0-9)\n",
    "At least one special character (_ , $ , #, @)\n",
    "Your task is to find whether a given password follows all those rules. If it breaks\n",
    "any rule, you have to print Lowercase Missing, Uppercase Missing, Digit Missing\n",
    "or Special Missing respective to the missing case. For more than one rule break,\n",
    "print all the rules that were broken (order doesn't matter). If the password is ok,\n",
    "print OK.\n",
    "\n",
    "===================================================\n",
    "\n",
    "**Sample Input:**\n",
    "\n",
    "ohMyBR@CU <br>\n",
    "ohmybracu <br>\n",
    "OhMyBR@CU20 <br>\n",
    "\n",
    "**Sample Output:**\n",
    "\n",
    "Digit missing <br>\n",
    "Uppercase character missing, Digit missing, Special character missing <br>\n",
    "OK <br>\n",
    "\n"
   ]
  }
 ],
 "metadata": {
  "kernelspec": {
   "display_name": "Python 3.9.5 64-bit",
   "language": "python",
   "name": "python3"
  },
  "language_info": {
   "name": "python",
   "version": "3.9.5"
  },
  "orig_nbformat": 4,
  "vscode": {
   "interpreter": {
    "hash": "b671c20432fcd147198c92e7f072af9e705f087eb990bee22b07f08caab9f630"
   }
  }
 },
 "nbformat": 4,
 "nbformat_minor": 2
}
