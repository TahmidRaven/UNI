{
 "cells": [
  {
   "cell_type": "markdown",
   "metadata": {},
   "source": [
    "                                **STRINGS**"
   ]
  },
  {
   "cell_type": "markdown",
   "metadata": {},
   "source": [
    "### Task 1\n",
    "\n",
    "From a given string, print the string in all uppercase if the number ofuppercase\n",
    "letters is more than lowercase letters. Otherwise, if lowercase is greater or equal\n",
    "to uppercase letters, print all lowercase. The inputs will contain letters (A-Z, a-z)\n",
    "only.\n",
    "\n",
    "=============================================================\n",
    "\n",
    "**Sample Input** : <br>HOusE <br>ApplE <br>BaNaNa \n",
    "\n",
    "**Sample Output** : <br>HOUSE <br>apple <br>banana\n",
    " "
   ]
  },
  {
   "cell_type": "markdown",
   "metadata": {},
   "source": [
    "\n",
    "<dev class= \"alert alert-block alert-warning\">\n",
    "    <b> Warning </b>: Just a markdown code\n",
    "</dev>"
   ]
  },
  {
   "cell_type": "code",
   "execution_count": 54,
   "metadata": {},
   "outputs": [
    {
     "ename": "TypeError",
     "evalue": "givenStr() missing 1 required positional argument: 'arg'",
     "output_type": "error",
     "traceback": [
      "\u001b[1;31m---------------------------------------------------------------------------\u001b[0m",
      "\u001b[1;31mTypeError\u001b[0m                                 Traceback (most recent call last)",
      "\u001b[1;32mg:\\CODE\\UNI\\CSE111\\Assignments\\CSE111_Lab_Assignment_1.ipynb Cell 4\u001b[0m in \u001b[0;36m<module>\u001b[1;34m\u001b[0m\n\u001b[0;32m      <a href='vscode-notebook-cell:/g%3A/CODE/UNI/CSE111/Assignments/CSE111_Lab_Assignment_1.ipynb#X12sZmlsZQ%3D%3D?line=5'>6</a>\u001b[0m countUp \u001b[39m=\u001b[39m \u001b[39m0\u001b[39m\n\u001b[0;32m      <a href='vscode-notebook-cell:/g%3A/CODE/UNI/CSE111/Assignments/CSE111_Lab_Assignment_1.ipynb#X12sZmlsZQ%3D%3D?line=6'>7</a>\u001b[0m countLow \u001b[39m=\u001b[39m \u001b[39m0\u001b[39m\n\u001b[1;32m----> <a href='vscode-notebook-cell:/g%3A/CODE/UNI/CSE111/Assignments/CSE111_Lab_Assignment_1.ipynb#X12sZmlsZQ%3D%3D?line=8'>9</a>\u001b[0m \u001b[39mfor\u001b[39;00m i \u001b[39min\u001b[39;00m givenStr():\n\u001b[0;32m     <a href='vscode-notebook-cell:/g%3A/CODE/UNI/CSE111/Assignments/CSE111_Lab_Assignment_1.ipynb#X12sZmlsZQ%3D%3D?line=9'>10</a>\u001b[0m     \u001b[39mif\u001b[39;00m (i\u001b[39m.\u001b[39misupper()) \u001b[39m==\u001b[39m \u001b[39mTrue\u001b[39;00m:\n\u001b[0;32m     <a href='vscode-notebook-cell:/g%3A/CODE/UNI/CSE111/Assignments/CSE111_Lab_Assignment_1.ipynb#X12sZmlsZQ%3D%3D?line=10'>11</a>\u001b[0m         countUp \u001b[39m+\u001b[39m\u001b[39m=\u001b[39m \u001b[39m1\u001b[39m\n",
      "\u001b[1;31mTypeError\u001b[0m: givenStr() missing 1 required positional argument: 'arg'"
     ]
    }
   ],
   "source": [
    "# givenStr = \"HOusE\"\n",
    "\n",
    "def givenStr(arg):\n",
    "    return\n",
    "\n",
    "countUp = 0\n",
    "countLow = 0\n",
    "\n",
    "for i in givenStr():\n",
    "    if (i.isupper()) == True:\n",
    "        countUp += 1\n",
    "    elif (i.islower()) == True:\n",
    "        countLow +=1\n",
    "    givenStr(\"HOusE\")       \n",
    "if countUp > countLow:\n",
    "    print(givenStr.upper())\n",
    "else:\n",
    "    print(givenStr.lower())\n",
    "    \n",
    "\n",
    "\n",
    "\n"
   ]
  },
  {
   "cell_type": "markdown",
   "metadata": {},
   "source": [
    "### Task 2\n",
    "\n",
    "Given a string, print whether it is a number, word or mixed with digit andletters.\n",
    "If all the characters are numeric values, print NUMBER. If they are all letters,\n",
    "print WORD. If it is mixed, print MIXED\n",
    "\n",
    "=======================================================\n",
    "\n",
    "**Sample Input** : <br>213213  <br>jhg231j213  <br>Hello\n",
    " \n",
    "**Sample Output**: <br>NUMBER  <br>MIXED <br>WORD\n",
    "\n"
   ]
  },
  {
   "cell_type": "markdown",
   "metadata": {},
   "source": [
    "### Task 3\n",
    "\n",
    "In a given string, there will be two uppercase letters in between some lowercase\n",
    "letters. Print the substring from the first uppercase letter to the last uppercase\n",
    "letter excluding them. If there are no letters in between them, print the word\n",
    "BLANK. It is guaranteed that there will be only two uppercase letters in the\n",
    "string\n",
    "\n",
    "=============================================================\n",
    "\n",
    "**Sample Input:** <br>baNgladEsh <br>coDIng \n",
    "\n",
    "**Sample Output:**<br>glad <br>BLANK"
   ]
  },
  {
   "cell_type": "markdown",
   "metadata": {},
   "source": [
    "### Task 4\n",
    "\n",
    "Create a string from two given strings by concatenating common characters of\n",
    "the given strings.\n",
    "\n",
    "==================================================\n",
    "\n",
    "**Sample Input:** <br>\n",
    "harry, hermione <br>dean, tom \n",
    "\n",
    "**Sample Output:** <br>hrrhr  <br>Nothing in common.\n",
    "\n",
    "\n",
    "\n",
    "\n"
   ]
  },
  {
   "cell_type": "markdown",
   "metadata": {},
   "source": [
    "### Task 5\n",
    "\n",
    "Again, you have lost your USIS password!! You went to the registrar office\n",
    "and requested for a new password. This time, you need to follow some rules to\n",
    "set your password. Otherwise, they won't change it. The rules are\n",
    "At least one lowercase letter\n",
    "At least one uppercase letter\n",
    "At least one digit (0-9)\n",
    "At least one special character (_ , $ , #, @)\n",
    "Your task is to find whether a given password follows all those rules. If it breaks\n",
    "any rule, you have to print Lowercase Missing, Uppercase Missing, Digit Missing\n",
    "or Special Missing respective to the missing case. For more than one rule break,\n",
    "print all the rules that were broken (order doesn't matter). If the password is ok,\n",
    "print OK.\n",
    "\n",
    "===================================================\n",
    "\n",
    "**Sample Input:**\n",
    "\n",
    "ohMyBR@CU <br>\n",
    "ohmybracu <br>\n",
    "OhMyBR@CU20 <br>\n",
    "\n",
    "**Sample Output:**\n",
    "\n",
    "Digit missing <br>\n",
    "Uppercase character missing, Digit missing, Special character missing <br>\n",
    "OK <br>\n",
    "\n"
   ]
  }
 ],
 "metadata": {
  "kernelspec": {
   "display_name": "Python 3.9.5 64-bit",
   "language": "python",
   "name": "python3"
  },
  "language_info": {
   "codemirror_mode": {
    "name": "ipython",
    "version": 3
   },
   "file_extension": ".py",
   "mimetype": "text/x-python",
   "name": "python",
   "nbconvert_exporter": "python",
   "pygments_lexer": "ipython3",
   "version": "3.9.5"
  },
  "orig_nbformat": 4,
  "vscode": {
   "interpreter": {
    "hash": "b671c20432fcd147198c92e7f072af9e705f087eb990bee22b07f08caab9f630"
   }
  }
 },
 "nbformat": 4,
 "nbformat_minor": 2
}
