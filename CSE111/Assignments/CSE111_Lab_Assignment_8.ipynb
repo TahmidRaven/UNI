{
 "cells": [
  {
   "cell_type": "code",
   "execution_count": 9,
   "metadata": {},
   "outputs": [
    {
     "name": "stdout",
     "output_type": "stream",
     "text": [
      "RealPart: 1.0\n",
      "Imaginary Number: 1.0\n",
      "---------\n",
      "RealPart: 5.0\n",
      "Imaginary Number: 7.0\n"
     ]
    }
   ],
   "source": [
    "# Task 1:\n",
    "class RealNumber:\n",
    "    \n",
    "    def __init__(self, r=0):\n",
    "        self.__realValue = r  \n",
    "    def getRealValue(self):\n",
    "        return self.__realValue\n",
    "    def setRealValue(self, r):\n",
    "        self.__realValue = r\n",
    "    def __str__(self):\n",
    "        return 'RealPart: '+str(self.getRealValue())    \n",
    "\n",
    "#my code \n",
    "\n",
    "class ComplexNumber(RealNumber):\n",
    "    def __init__(self,r= 1, i=1):\n",
    "        super().__init__(float(r))\n",
    "        self.imaginary = float(i)\n",
    "    \n",
    "    def __str__(self):\n",
    "        return f\"{super().__str__()}\\nImaginary Number: {self.imaginary}\"\n",
    "\n",
    "cn1 = ComplexNumber() \n",
    "print(cn1)\n",
    "print('---------')\n",
    "cn2 = ComplexNumber(5,7)\n",
    "print(cn2)"
   ]
  },
  {
   "cell_type": "code",
   "execution_count": 7,
   "metadata": {},
   "outputs": [
    {
     "name": "stdout",
     "output_type": "stream",
     "text": [
      "8\n",
      "RealPart: 2.0\n",
      "Imaginary Number: 1.0\n",
      "RealPart: 3.0\n",
      "Imaginary Number: 5.0\n"
     ]
    },
    {
     "ename": "TypeError",
     "evalue": "unsupported operand type(s) for +: 'ComplexNumber' and 'ComplexNumber'",
     "output_type": "error",
     "traceback": [
      "\u001b[1;31m---------------------------------------------------------------------------\u001b[0m",
      "\u001b[1;31mTypeError\u001b[0m                                 Traceback (most recent call last)",
      "\u001b[1;32mg:\\CODE\\UNI\\CSE111\\Assignments\\CSE111_Lab_Assignment_8.ipynb Cell 2\u001b[0m in \u001b[0;36m<module>\u001b[1;34m\u001b[0m\n\u001b[0;32m     <a href='vscode-notebook-cell:/g%3A/CODE/UNI/CSE111/Assignments/CSE111_Lab_Assignment_8.ipynb#W2sZmlsZQ%3D%3D?line=19'>20</a>\u001b[0m cn2 \u001b[39m=\u001b[39m ComplexNumber(r1, \u001b[39m5\u001b[39m)\n\u001b[0;32m     <a href='vscode-notebook-cell:/g%3A/CODE/UNI/CSE111/Assignments/CSE111_Lab_Assignment_8.ipynb#W2sZmlsZQ%3D%3D?line=20'>21</a>\u001b[0m \u001b[39mprint\u001b[39m(cn2)\n\u001b[1;32m---> <a href='vscode-notebook-cell:/g%3A/CODE/UNI/CSE111/Assignments/CSE111_Lab_Assignment_8.ipynb#W2sZmlsZQ%3D%3D?line=21'>22</a>\u001b[0m cn3 \u001b[39m=\u001b[39m cn1 \u001b[39m+\u001b[39;49m cn2\n\u001b[0;32m     <a href='vscode-notebook-cell:/g%3A/CODE/UNI/CSE111/Assignments/CSE111_Lab_Assignment_8.ipynb#W2sZmlsZQ%3D%3D?line=22'>23</a>\u001b[0m \u001b[39mprint\u001b[39m(cn3)\n\u001b[0;32m     <a href='vscode-notebook-cell:/g%3A/CODE/UNI/CSE111/Assignments/CSE111_Lab_Assignment_8.ipynb#W2sZmlsZQ%3D%3D?line=23'>24</a>\u001b[0m cn4 \u001b[39m=\u001b[39m cn1 \u001b[39m-\u001b[39m cn2\n",
      "\u001b[1;31mTypeError\u001b[0m: unsupported operand type(s) for +: 'ComplexNumber' and 'ComplexNumber'"
     ]
    }
   ],
   "source": [
    "#Task 2:\n",
    "class RealNumber:\n",
    "    def __init__(self, number=0):\n",
    "        self.number = number\n",
    "    def __add__(self, anotherRealNumber):\n",
    "        return self.number + anotherRealNumber.number\n",
    "    def __sub__(self, anotherRealNumber):\n",
    "        return self.number - anotherRealNumber.number\n",
    "    def __str__(self):\n",
    "        return str(self.number)\n",
    "\n",
    "#my code\n",
    "\n",
    "\n",
    "    \n",
    "r1 = RealNumber(3)\n",
    "r2 = RealNumber(5)\n",
    "print(r1+r2)\n",
    "cn1 = ComplexNumber(2, 1)\n",
    "print(cn1)\n",
    "cn2 = ComplexNumber(r1, 5)\n",
    "print(cn2)\n",
    "cn3 = cn1 + cn2\n",
    "print(cn3)\n",
    "cn4 = cn1 - cn2\n",
    "print(cn4)\n",
    "\n",
    "\n",
    "\n"
   ]
  },
  {
   "cell_type": "code",
   "execution_count": null,
   "metadata": {},
   "outputs": [],
   "source": []
  }
 ],
 "metadata": {
  "kernelspec": {
   "display_name": "Python 3",
   "language": "python",
   "name": "python3"
  },
  "language_info": {
   "codemirror_mode": {
    "name": "ipython",
    "version": 3
   },
   "file_extension": ".py",
   "mimetype": "text/x-python",
   "name": "python",
   "nbconvert_exporter": "python",
   "pygments_lexer": "ipython3",
   "version": "3.9.5"
  },
  "orig_nbformat": 4,
  "vscode": {
   "interpreter": {
    "hash": "b671c20432fcd147198c92e7f072af9e705f087eb990bee22b07f08caab9f630"
   }
  }
 },
 "nbformat": 4,
 "nbformat_minor": 2
}
