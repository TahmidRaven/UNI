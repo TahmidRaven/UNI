{
 "cells": [
  {
   "cell_type": "code",
   "execution_count": 1,
   "metadata": {},
   "outputs": [
    {
     "name": "stdout",
     "output_type": "stream",
     "text": [
      "Hello\n",
      "Hello?\n",
      "I am Raven.\n",
      "      Baymax\n",
      "x\n",
      "R\n",
      "\u001b[1;32m This text is Bright Green  \n",
      "\n",
      "\u001b[1;31m STRINGS ARE IMMUTABLE \n",
      "\n",
      "I am Baymax\n",
      "I am Batman\n"
     ]
    }
   ],
   "source": [
    "print('Hello')\n",
    "print(\"Hello?\")\n",
    "print('''I am Raven.\n",
    "      Baymax''')\n",
    "print(\"baymax\"[-1])\n",
    "print(\"Raven\"[0])\n",
    "\n",
    "print(\"\\033[1;32m This text is Bright Green  \\n\")\n",
    "print(\"\\033[1;31m STRINGS ARE IMMUTABLE \\n\")\n",
    "\n",
    "s = \"I am Baymax\"\n",
    "print(s)\n",
    "s = \"I am Batman\"\n",
    "print (s)\n"
   ]
  },
  {
   "cell_type": "code",
   "execution_count": null,
   "metadata": {},
   "outputs": [],
   "source": []
  },
  {
   "cell_type": "code",
   "execution_count": 1,
   "metadata": {},
   "outputs": [
    {
     "name": "stdout",
     "output_type": "stream",
     "text": [
      "\u001b[31mThis text is Bright Green\n",
      "\u001b[1;31m STRINGS ARE IMMUTABLE \n",
      "\n",
      "\u001b[39m\n",
      "I am Baymax\n"
     ]
    }
   ],
   "source": [
    "import colorama\n",
    "from colorama import Fore, Back, Style\n",
    "# colorama.init()\n",
    "\n",
    "print(Fore.RED +\"This text is Bright Green\")\n",
    "# print(\"\\033[39m\")\n",
    "print(\"\\033[1;31m STRINGS ARE IMMUTABLE \\n\")\n",
    "print(Fore.RESET)\n",
    "\n",
    "s = \"I am Baymax\"\n",
    "print(s)\n",
    "\n"
   ]
  },
  {
   "cell_type": "code",
   "execution_count": 2,
   "metadata": {},
   "outputs": [
    {
     "name": "stdout",
     "output_type": "stream",
     "text": [
      "\u001b[31m This text is Bright Green\n",
      "hello\n"
     ]
    }
   ],
   "source": [
    "import colorama\n",
    "from colorama import Fore, Back, Style\n",
    "# colorama.init(autoreset=True)\n",
    "\n",
    "print(Fore.RED, 'This text is Bright Green')\n",
    "\n",
    "print(\"hello\")\n"
   ]
  },
  {
   "cell_type": "code",
   "execution_count": 24,
   "metadata": {},
   "outputs": [
    {
     "name": "stdout",
     "output_type": "stream",
     "text": [
      "index of     I     is      0\n",
      "index of           is      1\n",
      "index of     a     is      2\n",
      "index of     m     is      3\n",
      "index of           is      4\n",
      "index of     V     is      5\n",
      "index of     a     is      6\n",
      "index of     n     is      7\n",
      "index of     g     is      8\n",
      "index of     e     is      9\n",
      "index of     n     is      10\n",
      "index of     c     is      11\n",
      "index of     e     is      12\n"
     ]
    },
    {
     "ename": "TypeError",
     "evalue": "unsupported operand type(s) for -: 'str' and 'int'",
     "output_type": "error",
     "traceback": [
      "\u001b[1;31m---------------------------------------------------------------------------\u001b[0m",
      "\u001b[1;31mTypeError\u001b[0m                                 Traceback (most recent call last)",
      "\u001b[1;32mg:\\CODE\\UNI\\CSE111\\Classes\\String.ipynb Cell 5\u001b[0m in \u001b[0;36m<module>\u001b[1;34m\u001b[0m\n\u001b[0;32m      <a href='vscode-notebook-cell:/g%3A/CODE/UNI/CSE111/Classes/String.ipynb#W4sZmlsZQ%3D%3D?line=8'>9</a>\u001b[0m     \u001b[39mprint\u001b[39m(\u001b[39mf\u001b[39m\u001b[39m\"\u001b[39m\u001b[39mindex of     \u001b[39m\u001b[39m{\u001b[39;00ms[index]\u001b[39m}\u001b[39;00m\u001b[39m     is      \u001b[39m\u001b[39m{\u001b[39;00mindex\u001b[39m}\u001b[39;00m\u001b[39m\"\u001b[39m)\n\u001b[0;32m     <a href='vscode-notebook-cell:/g%3A/CODE/UNI/CSE111/Classes/String.ipynb#W4sZmlsZQ%3D%3D?line=9'>10</a>\u001b[0m     index \u001b[39m+\u001b[39m\u001b[39m=\u001b[39m \u001b[39m1\u001b[39m\n\u001b[1;32m---> <a href='vscode-notebook-cell:/g%3A/CODE/UNI/CSE111/Classes/String.ipynb#W4sZmlsZQ%3D%3D?line=11'>12</a>\u001b[0m \u001b[39mfor\u001b[39;00m i \u001b[39min\u001b[39;00m \u001b[39mlen\u001b[39m(s\u001b[39m-\u001b[39;49m\u001b[39m1\u001b[39;49m):\n\u001b[0;32m     <a href='vscode-notebook-cell:/g%3A/CODE/UNI/CSE111/Classes/String.ipynb#W4sZmlsZQ%3D%3D?line=12'>13</a>\u001b[0m     \u001b[39mprint\u001b[39m(s[index], end\u001b[39m=\u001b[39m\u001b[39m\"\u001b[39m\u001b[39m\"\u001b[39m)\n\u001b[0;32m     <a href='vscode-notebook-cell:/g%3A/CODE/UNI/CSE111/Classes/String.ipynb#W4sZmlsZQ%3D%3D?line=13'>14</a>\u001b[0m     index \u001b[39m+\u001b[39m\u001b[39m=\u001b[39m \u001b[39m1\u001b[39m\n",
      "\u001b[1;31mTypeError\u001b[0m: unsupported operand type(s) for -: 'str' and 'int'"
     ]
    }
   ],
   "source": [
    "from textwrap import indent\n",
    "\n",
    "\n",
    "index = 0\n",
    "\n",
    "s = \"I am Vangence\"\n",
    "\n",
    "while index < len(s):\n",
    "    print(f\"index of     {s[index]}     is      {index}\")\n",
    "    index += 1\n",
    "    \n",
    "\n",
    "    \n",
    "    "
   ]
  },
  {
   "cell_type": "code",
   "execution_count": null,
   "metadata": {},
   "outputs": [],
   "source": []
  }
 ],
 "metadata": {
  "kernelspec": {
   "display_name": "Python 3.9.5 64-bit (system)",
   "language": "python",
   "name": "python3"
  },
  "language_info": {
   "codemirror_mode": {
    "name": "ipython",
    "version": 3
   },
   "file_extension": ".py",
   "mimetype": "text/x-python",
   "name": "python",
   "nbconvert_exporter": "python",
   "pygments_lexer": "ipython3",
   "version": "3.9.5"
  },
  "orig_nbformat": 4,
  "vscode": {
   "interpreter": {
    "hash": "b671c20432fcd147198c92e7f072af9e705f087eb990bee22b07f08caab9f630"
   }
  }
 },
 "nbformat": 4,
 "nbformat_minor": 2
}
