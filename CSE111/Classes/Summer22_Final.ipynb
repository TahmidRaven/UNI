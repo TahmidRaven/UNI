{
 "cells": [
  {
   "attachments": {},
   "cell_type": "markdown",
   "metadata": {},
   "source": [
    "Question 1: CO4 [10 Points]\n",
    "\n",
    "Design the Monster class with necessary properties so that the given output is produced.\n",
    "[Hint:\n",
    "1. Let's say there are 2 monsters: A and B.\n",
    "-A can attack B if A is alive.\n",
    "-If A is alive, it can only attack B if B is alive.\n",
    "-If A's power is greater than that of B, only then A can defeat B;\n",
    "Otherwise, A will be defeated by B.\n",
    "- Once a monster gets defeated, it is considered to be dead.\n",
    "2. The variable \"monsterCount\" keeps track of the number of monsters\n",
    "alive. So, update it accordingly.]"
   ]
  },
  {
   "cell_type": "code",
   "execution_count": 13,
   "metadata": {},
   "outputs": [
    {
     "name": "stdout",
     "output_type": "stream",
     "text": [
      "Number of monsters alive:3\n",
      "1--------------------------------\n",
      "Name: Godzilla\n",
      "Power: 40\n",
      "Alive: True\n",
      "2--------------------------------\n",
      "Name: Hydra\n",
      "Power: 30\n",
      "Alive: True\n",
      "3--------------------------------\n",
      "Name: KingKong\n",
      "Power: 50\n",
      "Alive: True\n",
      "4--------------------------------\n",
      "No monsters to attack\n",
      "5--------------------------------\n",
      "stronger\n",
      "6--------------------------------\n"
     ]
    },
    {
     "ename": "TypeError",
     "evalue": "attack() takes from 1 to 2 positional arguments but 3 were given",
     "output_type": "error",
     "traceback": [
      "\u001b[1;31m---------------------------------------------------------------------------\u001b[0m",
      "\u001b[1;31mTypeError\u001b[0m                                 Traceback (most recent call last)",
      "\u001b[1;32mg:\\CODE\\UNI\\CSE111\\Classes\\Summer22_Final.ipynb Cell 2\u001b[0m in \u001b[0;36m<module>\u001b[1;34m\u001b[0m\n\u001b[0;32m     <a href='vscode-notebook-cell:/g%3A/CODE/UNI/CSE111/Classes/Summer22_Final.ipynb#W0sZmlsZQ%3D%3D?line=36'>37</a>\u001b[0m monster1\u001b[39m.\u001b[39mattack(monster2)\n\u001b[0;32m     <a href='vscode-notebook-cell:/g%3A/CODE/UNI/CSE111/Classes/Summer22_Final.ipynb#W0sZmlsZQ%3D%3D?line=37'>38</a>\u001b[0m \u001b[39mprint\u001b[39m(\u001b[39m'\u001b[39m\u001b[39m6--------------------------------\u001b[39m\u001b[39m'\u001b[39m)\n\u001b[1;32m---> <a href='vscode-notebook-cell:/g%3A/CODE/UNI/CSE111/Classes/Summer22_Final.ipynb#W0sZmlsZQ%3D%3D?line=38'>39</a>\u001b[0m monster1\u001b[39m.\u001b[39;49mattack(monster2, monster3)\n\u001b[0;32m     <a href='vscode-notebook-cell:/g%3A/CODE/UNI/CSE111/Classes/Summer22_Final.ipynb#W0sZmlsZQ%3D%3D?line=39'>40</a>\u001b[0m \u001b[39mprint\u001b[39m(\u001b[39m'\u001b[39m\u001b[39m7--------------------------------\u001b[39m\u001b[39m'\u001b[39m)\n\u001b[0;32m     <a href='vscode-notebook-cell:/g%3A/CODE/UNI/CSE111/Classes/Summer22_Final.ipynb#W0sZmlsZQ%3D%3D?line=40'>41</a>\u001b[0m \u001b[39mprint\u001b[39m(\u001b[39mf\u001b[39m\u001b[39m\"\u001b[39m\u001b[39mNumber of monsters alive:\u001b[39m\u001b[39m{\u001b[39;00mMonster\u001b[39m.\u001b[39mmonsterCount\u001b[39m}\u001b[39;00m\u001b[39m\"\u001b[39m)\n",
      "\u001b[1;31mTypeError\u001b[0m: attack() takes from 1 to 2 positional arguments but 3 were given"
     ]
    }
   ],
   "source": [
    "class Monster:\n",
    "    monsterCount = 0\n",
    "    def __init__(self, name, power,stat=True):\n",
    "        self.__name = name\n",
    "        self.__power = power\n",
    "        self.__stat = stat\n",
    "        Monster.monsterCount += 1   \n",
    "        \n",
    "    def get_details(self):\n",
    "        return f\"Name: {self.__name}\\nPower: {self.__power}\\nAlive: {self.__stat}\"\n",
    "        \n",
    "    def attack(self, kaijuu=None):\n",
    "        \n",
    "        \n",
    "        if kaijuu == None:\n",
    "            print(f\"No monsters to attack\")\n",
    "        else:\n",
    "            if self.__power > kaijuu.__power:\n",
    "                print(f\"stronger\")\n",
    "            \n",
    "        \n",
    "        \n",
    "#Write your code here\n",
    "monster1 = Monster('Godzilla', 40)\n",
    "monster2 = Monster('Hydra', 30)\n",
    "monster3 = Monster('KingKong', 50)\n",
    "print(f\"Number of monsters alive:{Monster.monsterCount}\")\n",
    "print('1--------------------------------')\n",
    "print(monster1.get_details())\n",
    "print('2--------------------------------')\n",
    "print(monster2.get_details())\n",
    "print('3--------------------------------')\n",
    "print(monster3.get_details())\n",
    "print('4--------------------------------')\n",
    "monster1.attack()\n",
    "print('5--------------------------------')\n",
    "monster1.attack(monster2)\n",
    "print('6--------------------------------')\n",
    "monster1.attack(monster2, monster3)\n",
    "print('7--------------------------------')\n",
    "print(f\"Number of monsters alive:{Monster.monsterCount}\")\n",
    "print('8--------------------------------')\n",
    "print(monster2.get_details())\n",
    "print('9--------------------------------')\n",
    "monster2.attack(monster1)"
   ]
  },
  {
   "attachments": {},
   "cell_type": "markdown",
   "metadata": {},
   "source": [
    "Question 2: CO5 [10 Points]\n",
    "\n",
    "Implement the BracbookUser class that is derived from the User class with necessary\n",
    "properties so that the given output is produced.\n",
    "[You are not allowed to change the given code under any circumstances.]"
   ]
  },
  {
   "cell_type": "code",
   "execution_count": 24,
   "metadata": {},
   "outputs": [
    {
     "name": "stdout",
     "output_type": "stream",
     "text": [
      "1===========================\n",
      "User Detail:\n",
      "Name:Rakait\n",
      "Email: xyz@gmail.com\n",
      "2===========================\n",
      "3===========================\n",
      "User Detail:\n",
      "Name:Sazzad\n",
      "Email: abc@gmail.com\n",
      "4===========================\n",
      "5===========================\n",
      "6===========================\n",
      "User Detail:\n",
      "Name:Rakait\n",
      "Email: xyz@gmail.com\n",
      "7===========================\n",
      "8===========================\n",
      "9===========================\n",
      "User Detail:\n",
      "Name:Sazzad\n",
      "Email: abc@gmail.com\n"
     ]
    }
   ],
   "source": [
    "#Driver Code\n",
    "class User:\n",
    "    activities = [\"Post\", \"Like\", \"Comment\"]\n",
    "    def __init__(self, name,email):\n",
    "        self.name = name\n",
    "        self.email = email\n",
    "    def UserActivity(self, activityType):\n",
    "        if activityType in User.activities:\n",
    "            return True\n",
    "        else:\n",
    "            return False\n",
    "    def userDetail(self):\n",
    "        return f\"User Detail:\\nName:{self.name}\\nEmail: {self.email}\"\n",
    "\n",
    "class BracbookUser(User):\n",
    "    def __init__(self, name, email, number=None):\n",
    "        super().__init__(name, email)\n",
    "        self.number = number\n",
    "    \n",
    "    def UserActivity(self, activityType):\n",
    "        return super().UserActivity(activityType)\n",
    "    \n",
    "    def userDetail(self):\n",
    "        return super().userDetail()\n",
    "        if self.number == None:\n",
    "            print(F\"Phone: Not set\")\n",
    "        else:\n",
    "            print(f\"Phone: {self.number}\")\n",
    "#Write your code here\n",
    "user1 = BracbookUser(\"Rakait\",\"xyz@gmail.com\")\n",
    "print(\"1===========================\")\n",
    "print(user1.userDetail())\n",
    "print(\"2===========================\")\n",
    "user2 = BracbookUser(\"Sazzad\",\"abc@gmail.com\",\n",
    "\"01727xxxxxx\")\n",
    "print(\"3===========================\")\n",
    "print(user2.userDetail())\n",
    "print(\"4===========================\")\n",
    "user1.UserActivity(\"Like\")\n",
    "print(\"5===========================\")\n",
    "user1.UserActivity(\"Comment\")\n",
    "print(\"6===========================\")\n",
    "print(user1.userDetail())\n",
    "print(\"7===========================\")\n",
    "user2.UserActivity(\"Share\")\n",
    "print(\"8===========================\")\n",
    "user2.UserActivity(\"Comment\")\n",
    "print(\"9===========================\")\n",
    "print(user2.userDetail())\n"
   ]
  },
  {
   "cell_type": "code",
   "execution_count": 3,
   "metadata": {},
   "outputs": [
    {
     "name": "stdout",
     "output_type": "stream",
     "text": [
      "-5 20 11\n",
      "24 26 61\n",
      "83 90 184\n"
     ]
    }
   ],
   "source": [
    "class A:\n",
    "    temp = 5\n",
    "    def __init__(self):\n",
    "        self.y = A.temp - 2\n",
    "        self.sum = A.temp + 1\n",
    "        A.temp += 3\n",
    "    def methodA(self, m, n):\n",
    "        x = 0\n",
    "        self.y = self.y + m + (A.temp)\n",
    "        x = x + 2 + n\n",
    "        print(x, self.y, self.sum)\n",
    "        self.methodB(-2, 6)\n",
    "        self.sum = self.sum + x + A.temp\n",
    "        self.methodB(-4, self.sum, 3)\n",
    "    def methodB(self, m, n):\n",
    "        y = 5\n",
    "        y = y + self.y\n",
    "        self.sum = B.x + y + n\n",
    "        print(B.x, y, self.sum)\n",
    "class B(A):\n",
    "    x = 1\n",
    "    def __init__(self, obj=None):\n",
    "        super().__init__()\n",
    "        if obj != None:\n",
    "            obj.sum = 11\n",
    "        self.y = A.temp + 4\n",
    "        self.sum = 3 + A.temp + B.x\n",
    "    def methodB(self, m, n, y=0):\n",
    "        y = y + self.y + n\n",
    "        B.x = m + self.y + n    \n",
    "        self.sum = B.x + y + A.temp\n",
    "        print(B.x, y, self.sum)\n",
    "\n",
    "b1 = B()\n",
    "b2 = B(b1)\n",
    "b1.methodA(-3, -7)"
   ]
  }
 ],
 "metadata": {
  "kernelspec": {
   "display_name": "Python 3",
   "language": "python",
   "name": "python3"
  },
  "language_info": {
   "codemirror_mode": {
    "name": "ipython",
    "version": 3
   },
   "file_extension": ".py",
   "mimetype": "text/x-python",
   "name": "python",
   "nbconvert_exporter": "python",
   "pygments_lexer": "ipython3",
   "version": "3.9.5"
  },
  "orig_nbformat": 4,
  "vscode": {
   "interpreter": {
    "hash": "b671c20432fcd147198c92e7f072af9e705f087eb990bee22b07f08caab9f630"
   }
  }
 },
 "nbformat": 4,
 "nbformat_minor": 2
}
