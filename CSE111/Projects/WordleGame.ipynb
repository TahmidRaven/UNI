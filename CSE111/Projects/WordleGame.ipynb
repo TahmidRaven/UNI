{
 "cells": [
  {
   "cell_type": "code",
   "execution_count": 1,
   "metadata": {},
   "outputs": [
    {
     "name": "stdout",
     "output_type": "stream",
     "text": [
      "COAST\n",
      "Bummer\n",
      "Bummer\n",
      "Bummer\n",
      "Lucky Guess\n"
     ]
    }
   ],
   "source": [
    "import random\n",
    "import sys\n",
    "ls = ['BOXED', 'BLACK', 'BEARD', 'DREAD', 'ABOUT', 'ABOVE', 'ADULT', 'GHOST', 'JUMPS', 'SEEMS', 'SEEDS', 'SENDS', 'STICK', 'STRAY', 'COAST', 'OASIS', 'EATEN']\n",
    "#print(random.choice(ls))\n",
    "#! print(random.sample(ls))\n",
    "\n",
    "Wordle= random.choice(ls)\n",
    "print(Wordle)\n",
    "for i in range(6):\n",
    "    UserInput = input(\"Guess your word\")\n",
    "    \n",
    "    if Wordle == UserInput:\n",
    "        print(\"Lucky Guess\")\n",
    "        # sys.exit()\n",
    "        break\n",
    "        \n",
    "    else:\n",
    "        print(\"Bummer\")"
   ]
  }
 ],
 "metadata": {
  "kernelspec": {
   "display_name": "Python 3.9.5 64-bit (system)",
   "language": "python",
   "name": "python3"
  },
  "language_info": {
   "codemirror_mode": {
    "name": "ipython",
    "version": 3
   },
   "file_extension": ".py",
   "mimetype": "text/x-python",
   "name": "python",
   "nbconvert_exporter": "python",
   "pygments_lexer": "ipython3",
   "version": "3.9.5"
  },
  "orig_nbformat": 4,
  "vscode": {
   "interpreter": {
    "hash": "b671c20432fcd147198c92e7f072af9e705f087eb990bee22b07f08caab9f630"
   }
  }
 },
 "nbformat": 4,
 "nbformat_minor": 2
}
