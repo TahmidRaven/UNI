{
 "cells": [
  {
   "cell_type": "code",
   "execution_count": 5,
   "metadata": {},
   "outputs": [
    {
     "name": "stdout",
     "output_type": "stream",
     "text": [
      "['ami', 'valo', 'lamia', 'kharap']\n",
      "['ami', 'valo', 'lamia', 'kharap']\n"
     ]
    }
   ],
   "source": [
    "x = \"ami valo lamia kharap\"\n",
    "print(x.split())\n",
    "\n",
    "for i in range(2):\n",
    "    ls = x.split()\n",
    "print(ls)"
   ]
  },
  {
   "cell_type": "code",
   "execution_count": 6,
   "metadata": {},
   "outputs": [
    {
     "ename": "ValueError",
     "evalue": "invalid literal for int() with base 10: ''",
     "output_type": "error",
     "traceback": [
      "\u001b[1;31m---------------------------------------------------------------------------\u001b[0m",
      "\u001b[1;31mValueError\u001b[0m                                Traceback (most recent call last)",
      "\u001b[1;32mg:\\CODE\\UNI\\CSE111\\Projects\\Beecrowd.ipynb Cell 2\u001b[0m in \u001b[0;36m<cell line: 1>\u001b[1;34m()\u001b[0m\n\u001b[1;32m----> <a href='vscode-notebook-cell:/g%3A/CODE/UNI/CSE111/Projects/Beecrowd.ipynb#W5sZmlsZQ%3D%3D?line=0'>1</a>\u001b[0m N \u001b[39m=\u001b[39m \u001b[39mint\u001b[39;49m(\u001b[39minput\u001b[39;49m())\n\u001b[0;32m      <a href='vscode-notebook-cell:/g%3A/CODE/UNI/CSE111/Projects/Beecrowd.ipynb#W5sZmlsZQ%3D%3D?line=1'>2</a>\u001b[0m oddls \u001b[39m=\u001b[39m []\n\u001b[0;32m      <a href='vscode-notebook-cell:/g%3A/CODE/UNI/CSE111/Projects/Beecrowd.ipynb#W5sZmlsZQ%3D%3D?line=2'>3</a>\u001b[0m evenls \u001b[39m=\u001b[39m []\n",
      "\u001b[1;31mValueError\u001b[0m: invalid literal for int() with base 10: ''"
     ]
    }
   ],
   "source": [
    "N = int(input())\n",
    "oddls = []\n",
    "evenls = []\n",
    "\n",
    "for i in range(N):\n",
    "    num = int(input())\n",
    "    \n",
    "    if num%2 == 0:\n",
    "        evenls.append()\n",
    "    elif num%2 !=0:\n",
    "        oddls.append()\n",
    "     \n",
    "     \n",
    "evenls.sort()\n",
    "oddls.sort(reverse = True)\n",
    "\n",
    "totalls = evenls+oddls\n",
    "\n",
    "for i in totalls:\n",
    "    print(i)\n",
    "\n"
   ]
  },
  {
   "cell_type": "code",
   "execution_count": null,
   "metadata": {},
   "outputs": [],
   "source": [
    "N = int(input())\n",
    "\n",
    "for i in range(N):\n",
    "    str = input().split()\n",
    "    str1 = str[0]\n",
    "    str2 = str[1]\n",
    "    empstr = \"\"\n",
    "    \n",
    "    if len(str1) >= len(str2):\n",
    "        for i in range(len(str2)):\n",
    "            empstr += str1[i]\n",
    "            empstr += str2[i]\n",
    "        \n",
    "        empstr += str1[len(str2):]    \n",
    "        \n",
    "\n",
    "    elif len(str1) <= len(str2):\n",
    "        for i in range(len(str2)):\n",
    "            empstr += str1[i]\n",
    "            empstr += str2[i]\n",
    "        \n",
    "        empstr += str1[len(str2):]    "
   ]
  },
  {
   "cell_type": "code",
   "execution_count": null,
   "metadata": {},
   "outputs": [],
   "source": [
    "N = int(input())\n",
    "\n",
    "for i in range(N):\n",
    "    num = \"95400023\"\n",
    "\n",
    "    num = sorted(num)\n",
    "\n",
    "    print(\"\".join(num))\n",
    "\n",
    "    # for i in num:\n",
    "    #     if i == 0:\n",
    "    #         break\n",
    "\n",
    "    # for i in range(len(num())):\n",
    "    #     if num(i) == \n",
    "\n",
    "\n",
    "    if num[0] ==\"0\":\n",
    "        zero = \"\"\n",
    "        index = 0\n",
    "        for i in range(len(num)):\n",
    "            \n",
    "            if num[i] ==0:\n",
    "                zero += \"0\"\n",
    "            \n",
    "            else:\n",
    "                index = i\n",
    "                break\n",
    "\n",
    "        newnum = list(num[index])+list(zero)+num[index+1:]\n",
    "    else:\n",
    "        newnum = num\n",
    "    print(int(\"\".join(newnum)))            "
   ]
  }
 ],
 "metadata": {
  "kernelspec": {
   "display_name": "Python 3.9.13 64-bit (microsoft store)",
   "language": "python",
   "name": "python3"
  },
  "language_info": {
   "codemirror_mode": {
    "name": "ipython",
    "version": 3
   },
   "file_extension": ".py",
   "mimetype": "text/x-python",
   "name": "python",
   "nbconvert_exporter": "python",
   "pygments_lexer": "ipython3",
   "version": "3.9.13"
  },
  "orig_nbformat": 4,
  "vscode": {
   "interpreter": {
    "hash": "43a24ecce625020f2d6631fb4cfb730bba30d877e9fe9ec2e0d85cb5a52a2b64"
   }
  }
 },
 "nbformat": 4,
 "nbformat_minor": 2
}
