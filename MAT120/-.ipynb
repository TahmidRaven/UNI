{
  "cells": [
    {
      "cell_type": "markdown",
      "metadata": {
        "id": "MVhTaxbMcOaV"
      },
      "source": [
        "\n",
        "###Lab Assignment - 1\n",
        "```\n",
        "Name: Sabbir Bin Abdul Latif\n",
        "ID: 21201200\n",
        "Depertment: CSE\n",
        "Course: MAT120\n",
        "```\n",
        "\n"
      ]
    },
    {
      "cell_type": "code",
      "execution_count": 3,
      "metadata": {
        "id": "a3rRQQijoyAg"
      },
      "outputs": [],
      "source": [
        "from sympy.solvers.solveset import solvify\n",
        "from sympy import*\n",
        "import numpy as np\n",
        "import matplotlib.pyplot as plt\n",
        "\n",
        "x = symbols('x')"
      ]
    },
    {
      "cell_type": "code",
      "execution_count": 12,
      "metadata": {
        "colab": {
          "base_uri": "https://localhost:8080/"
        },
        "id": "rSD-7gI_G-cG",
        "outputId": "07003a53-0b44-4983-fd95-fc68f6d8e68e"
      },
      "outputs": [
        {
          "name": "stdout",
          "output_type": "stream",
          "text": [
            "Critical points: [-5, 6]\n",
            "f(-5) = log(5) + I*pi\n",
            "f(6) = log(6)\n"
          ]
        }
      ],
      "source": [
        "#Task 2\n",
        "\n",
        "y = ln(x)\n",
        "a, b = [-5, 6]\n",
        "\n",
        "dy1 = diff(y, x)\n",
        "\n",
        "cp = solvify(dy1, x, Interval(a, b)) + [a, b]\n",
        "\n",
        "print(\"Critical points:\", cp)\n",
        "\n",
        "for i in cp:\n",
        "  print(f\"f({i}) = {y.subs(x, i)}\")"
      ]
    },
    {
      "cell_type": "code",
      "execution_count": 14,
      "metadata": {
        "colab": {
          "base_uri": "https://localhost:8080/"
        },
        "id": "F46CnjQRD4_r",
        "outputId": "524fa040-92e8-4a68-d3af-a9182c6601c8"
      },
      "outputs": [
        {
          "name": "stdout",
          "output_type": "stream",
          "text": [
            "Critical points: [-3*pi/2, -pi/2, pi/2, 3*pi/2]\n",
            "f(-3*pi/2) = 1\n",
            "f(-pi/2) = -1\n",
            "f(pi/2) = 1\n",
            "f(3*pi/2) = -1\n"
          ]
        }
      ],
      "source": [
        "#Task 3\n",
        "\n",
        "y = sin(x)\n",
        "a, b = [-5, 6]\n",
        "\n",
        "dy1 = diff(y, x)\n",
        "\n",
        "cp = solvify(dy1, x, Interval(a, b))\n",
        "\n",
        "print(\"Critical points:\", cp)\n",
        "\n",
        "for i in cp:\n",
        "  print(f\"f({i}) = {y.subs(x, i)}\")"
      ]
    },
    {
      "cell_type": "code",
      "execution_count": 15,
      "metadata": {
        "colab": {
          "base_uri": "https://localhost:8080/"
        },
        "id": "K_YX2L84FsGC",
        "outputId": "3cd15b83-342a-4616-e55f-e7878c0d3c45"
      },
      "outputs": [
        {
          "name": "stdout",
          "output_type": "stream",
          "text": [
            "Critical points: [0, pi, -pi]\n",
            "f(0) = 1\n",
            "f(pi) = -1\n",
            "f(-pi) = -1\n"
          ]
        }
      ],
      "source": [
        "#Task 4\n",
        "\n",
        "y = cos(x)\n",
        "a, b = [-5, 6]\n",
        "\n",
        "dy1 = diff(y, x)\n",
        "\n",
        "cp = solvify(dy1, x, Interval(a, b))\n",
        "\n",
        "print(\"Critical points:\", cp)\n",
        "\n",
        "for i in cp:\n",
        "  print(f\"f({i}) = {y.subs(x, i)}\")"
      ]
    },
    {
      "cell_type": "code",
      "execution_count": 16,
      "metadata": {
        "colab": {
          "base_uri": "https://localhost:8080/"
        },
        "id": "kHMOUOZQGW0v",
        "outputId": "8ca82567-a238-4251-fbc2-266b21b64e24"
      },
      "outputs": [
        {
          "name": "stdout",
          "output_type": "stream",
          "text": [
            "Critical points: []\n"
          ]
        }
      ],
      "source": [
        "#Task 5\n",
        "\n",
        "y = tan(x)\n",
        "a, b = [-5, 6]\n",
        "\n",
        "dy1 = diff(y, x)\n",
        "\n",
        "cp = solvify(dy1, x, Interval(a, b))\n",
        "\n",
        "print(\"Critical points:\", cp)\n",
        "\n",
        "for i in cp:\n",
        "  print(f\"f({i}) = {y.subs(x, i)}\")"
      ]
    }
  ],
  "metadata": {
    "colab": {
      "collapsed_sections": [],
      "provenance": []
    },
    "kernelspec": {
      "display_name": "Python 3.9.5 64-bit",
      "language": "python",
      "name": "python3"
    },
    "language_info": {
      "name": "python",
      "version": "3.9.5"
    },
    "vscode": {
      "interpreter": {
        "hash": "b671c20432fcd147198c92e7f072af9e705f087eb990bee22b07f08caab9f630"
      }
    }
  },
  "nbformat": 4,
  "nbformat_minor": 0
}
