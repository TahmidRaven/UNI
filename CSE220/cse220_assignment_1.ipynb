{
  "nbformat": 4,
  "nbformat_minor": 0,
  "metadata": {
    "colab": {
      "provenance": []
    },
    "kernelspec": {
      "name": "python3",
      "display_name": "Python 3"
    },
    "language_info": {
      "name": "python"
    }
  },
  "cells": [
    {
      "cell_type": "code",
      "execution_count": null,
      "metadata": {
        "colab": {
          "base_uri": "https://localhost:8080/"
        },
        "id": "rhAvwFU8EtP6",
        "outputId": "6da8393a-c709-47fd-89cb-1c0779481f51"
      },
      "outputs": [
        {
          "output_type": "execute_result",
          "data": {
            "text/plain": [
              "[40, 50, 60, 0, 0, 0]"
            ]
          },
          "metadata": {},
          "execution_count": 3
        }
      ],
      "source": [
        "#Task 01\n",
        "def shiftLeft(source, k):\n",
        "  source_len=len(source)\n",
        "  if k<source_len:\n",
        "    for i in range (3):\n",
        "      source[i]=source[i+k] \n",
        "      source[i+k]=0\n",
        "    \n",
        "    return source\n",
        "source=[10,20,30,40,50,60]\n",
        "shiftLeft(source,3)"
      ]
    },
    {
      "cell_type": "code",
      "source": [
        "#Task 02\n",
        "def rotateLeft(source, k):\n",
        "  for i in range (k):\n",
        "      source[i],source[i+k]  =source[i+k] ,source[i]\n",
        "  \n",
        "  return source\n",
        "source=[10,20,30,40,50,60]\n",
        "\n",
        "rotateLeft(source,3)"
      ],
      "metadata": {
        "colab": {
          "base_uri": "https://localhost:8080/"
        },
        "id": "38Pft-S-E24f",
        "outputId": "6ad7c7a5-6e1b-4439-a48a-36a873011dc2"
      },
      "execution_count": null,
      "outputs": [
        {
          "output_type": "execute_result",
          "data": {
            "text/plain": [
              "[40, 50, 60, 10, 20, 30]"
            ]
          },
          "metadata": {},
          "execution_count": 2
        }
      ]
    },
    {
      "cell_type": "code",
      "source": [
        "#Task 03\n",
        "def shiftRight(source, k):\n",
        "    source_len = len(source)\n",
        "    for i in range(k):\n",
        "        for i in range(source_len-1, 0, -1):\n",
        "            source[i] = source[i-1]\n",
        "        source[0] = 0\n",
        "    return source\n",
        "source=[10,20,30,40,50,60]\n",
        "shiftRight(source,3)\n"
      ],
      "metadata": {
        "colab": {
          "base_uri": "https://localhost:8080/"
        },
        "id": "zsSB6PhmFDrH",
        "outputId": "317886d9-b3ef-4f82-f7bf-ecc9861de98f"
      },
      "execution_count": null,
      "outputs": [
        {
          "output_type": "execute_result",
          "data": {
            "text/plain": [
              "[0, 0, 0, 10, 20, 30]"
            ]
          },
          "metadata": {},
          "execution_count": 10
        }
      ]
    },
    {
      "cell_type": "code",
      "source": [
        "#Task 4\n",
        "def rotate_right(source, k):\n",
        "  for i in range (k):\n",
        "      source[i],source[i-k]  =source[i-k] ,source[i]\n",
        "  \n",
        "  return source\n",
        "  \n",
        "source=[10,20,30,40,50,60]\n",
        "rotate_right(source,3)\n"
      ],
      "metadata": {
        "id": "O00FblHnGxk7",
        "colab": {
          "base_uri": "https://localhost:8080/"
        },
        "outputId": "accca1d7-8ca8-4177-b5e3-7520c1732d27"
      },
      "execution_count": null,
      "outputs": [
        {
          "output_type": "execute_result",
          "data": {
            "text/plain": [
              "[40, 50, 60, 10, 20, 30]"
            ]
          },
          "metadata": {},
          "execution_count": 12
        }
      ]
    },
    {
      "cell_type": "code",
      "source": [
        "#Task 05\n",
        "def remove(source,idx):\n",
        "        i=idx\n",
        "        s_len=len(source)\n",
        "        while i<s_len:\n",
        "            if i<s_len-1:\n",
        "                source[i]=source[i+1]  \n",
        "            i+=1\n",
        "        source[s_len-1]=0     \n",
        "        return source\n",
        "source=[10,20,30,40,50,0,0]\n",
        "remove(source,2)"
      ],
      "metadata": {
        "colab": {
          "base_uri": "https://localhost:8080/"
        },
        "id": "dkKQmZO9Hhap",
        "outputId": "8e9c02a6-a7ca-4cd6-97c4-9f09d26568e6"
      },
      "execution_count": null,
      "outputs": [
        {
          "output_type": "execute_result",
          "data": {
            "text/plain": [
              "[10, 20, 40, 50, 0, 0, 0]"
            ]
          },
          "metadata": {},
          "execution_count": 13
        }
      ]
    },
    {
      "cell_type": "code",
      "source": [
        "#Task 06\n",
        "def removeAll(source,elem):\n",
        "    i=0\n",
        "    while i<len(source):\n",
        "       if source[i]==elem:\n",
        "          for j in range(i,len(source)-1):\n",
        "              source[j]=source[j+1]\n",
        "              if source[j]==elem:\n",
        "                 i-=1\n",
        "       i+=1\n",
        "    return source        \n",
        "source=[10,2,30,2,50,2,2,0,0]\n",
        "removeAll(source,2)"
      ],
      "metadata": {
        "colab": {
          "base_uri": "https://localhost:8080/"
        },
        "id": "JEh3SWxvIHBW",
        "outputId": "686c0b9a-5de8-453f-8592-cf2cd9b3f7ad"
      },
      "execution_count": null,
      "outputs": [
        {
          "output_type": "execute_result",
          "data": {
            "text/plain": [
              "[10, 30, 50, 0, 0, 0, 0, 0, 0]"
            ]
          },
          "metadata": {},
          "execution_count": 17
        }
      ]
    },
    {
      "cell_type": "code",
      "source": [
        "#Task-07\n",
        "def split_array(a):\n",
        "     x=0\n",
        "     y=0\n",
        "     cnt=0\n",
        "     for i in range(len(a)):\n",
        "        y+=a[i]\n",
        "        for x in range(i+1, len(a)):\n",
        "            x+=a[x]\n",
        "\n",
        "        if x==y:\n",
        "            cnt+=1\n",
        "        x=0\n",
        "     if cnt>0:\n",
        "        print(\"true\")\n",
        "     else:\n",
        "        print(\"false\") \n",
        "    \n",
        "a=[10, 3, 1, 2, 10]\n",
        "split_array(a)\n",
        "\n",
        "a= [2, 1, 1, 2, 1]\n",
        "split_array(a)\n",
        "\n",
        "a= [10, 3, 1, 2, 10]\n",
        "split_array(a)"
      ],
      "metadata": {
        "colab": {
          "base_uri": "https://localhost:8080/"
        },
        "id": "4BPpVJaUJmFU",
        "outputId": "126cbd3a-ce10-4f5a-f968-59ed2f1296f1"
      },
      "execution_count": null,
      "outputs": [
        {
          "output_type": "stream",
          "name": "stdout",
          "text": [
            "true\n",
            "false\n",
            "true\n"
          ]
        }
      ]
    },
    {
      "cell_type": "code",
      "source": [
        "#Task-08\n",
        "def max_bunch(bunch):\n",
        "        cnt=0\n",
        "        x=0\n",
        "        for i in range(len(bunch)-1):\n",
        "            if bunch[i]==bunch[i+1]:\n",
        "                cnt+=1\n",
        "            else:\n",
        "                cnt=0\n",
        "            if x<cnt:\n",
        "                x=cnt    \n",
        "        print(x+1) \n",
        "bunch=[1, 2, 2, 3, 4, 4, 4]\n",
        "max_bunch(bunch)       \n",
        "bunch=[1,1,2, 2, 1, 1,1,1]\n",
        "max_bunch(bunch)"
      ],
      "metadata": {
        "colab": {
          "base_uri": "https://localhost:8080/"
        },
        "id": "6LeTA8a2LA-O",
        "outputId": "1bc13343-9363-4bf3-a54d-629a7ddc3172"
      },
      "execution_count": null,
      "outputs": [
        {
          "output_type": "stream",
          "name": "stdout",
          "text": [
            "3\n",
            "4\n"
          ]
        }
      ]
    },
    {
      "cell_type": "code",
      "source": [
        "#part 2\n",
        "def calculate_mean(source):\n",
        "    source_len = len(source)\n",
        "    source_sum = sum(source)\n",
        "\n",
        "    return source_sum / source_len\n",
        "source=[10, 8, 13, 9, 14, 25, -5, 20, 7, 7, 4]\n",
        "calculate_mean(source)"
      ],
      "metadata": {
        "colab": {
          "base_uri": "https://localhost:8080/"
        },
        "id": "iGdOLBZWLIi9",
        "outputId": "d13858e4-173f-4918-bd7c-2a4e9b5bf963"
      },
      "execution_count": null,
      "outputs": [
        {
          "output_type": "execute_result",
          "data": {
            "text/plain": [
              "10.181818181818182"
            ]
          },
          "metadata": {},
          "execution_count": 2
        }
      ]
    },
    {
      "cell_type": "code",
      "source": [
        "def calculate_standard_deviation(source):\n",
        "    mean = calculate_mean(source)\n",
        "    x = 0\n",
        "    source_len = len(source)\n",
        "    for i in range(source_len):\n",
        "       x += (mean - source[i])**2\n",
        "    standard_deviation = (x/(source_len-1))**0.5\n",
        "\n",
        "    return standard_deviation\n",
        "source=[10, 8, 13, 9, 14, 25, -5, 20, 7, 7, 4]\n",
        "calculate_standard_deviation(source)"
      ],
      "metadata": {
        "colab": {
          "base_uri": "https://localhost:8080/"
        },
        "id": "TdxMe2LyLL1V",
        "outputId": "03abceb8-3958-4a3e-8b8f-3e1e97514323"
      },
      "execution_count": null,
      "outputs": [
        {
          "output_type": "execute_result",
          "data": {
            "text/plain": [
              "7.960127911260996"
            ]
          },
          "metadata": {},
          "execution_count": 3
        }
      ]
    },
    {
      "cell_type": "code",
      "source": [
        "def function(source):\n",
        "    x = []\n",
        "    sd = calculate_standard_deviation(source)\n",
        "    mean = calculate_mean(source)\n",
        "    for i in source:\n",
        "        if abs(i-mean) >= (1.5*sd):\n",
        "            x += [i]\n",
        "    return x\n",
        "source = [10, 8, 13, 9, 14, 25, -5, 20, 7, 7, 4]\n",
        "print(function(source))"
      ],
      "metadata": {
        "colab": {
          "base_uri": "https://localhost:8080/"
        },
        "id": "ear0u_kbMryu",
        "outputId": "82841bfc-d686-406b-920f-5543285a406e"
      },
      "execution_count": null,
      "outputs": [
        {
          "output_type": "stream",
          "name": "stdout",
          "text": [
            "[25, -5]\n"
          ]
        }
      ]
    }
  ]
}