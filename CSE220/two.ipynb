{
 "cells": [
  {
   "cell_type": "code",
   "execution_count": 3,
   "metadata": {},
   "outputs": [
    {
     "name": "stdout",
     "output_type": "stream",
     "text": [
      "Start index for first row:  4 Start character:  U\n",
      "Start index for second row:  2 Start character:  U\n",
      "U 0 0 0 0 0 B R A C \n"
     ]
    }
   ],
   "source": [
    "def print_board(board,start1,start2):\n",
    "    for i in range(1):\n",
    "        for j in range(10):\n",
    "            index = (j + start1[i]) % 10\n",
    "            print(board[i][index], end=\" \")\n",
    "        print(\"\")\n",
    "\n",
    "def main():\n",
    "    board = [[0]*10, [0]*10]\n",
    "    start1 = [0, 0]\n",
    "    start2 = [0, 0]\n",
    "\n",
    "    input1 = input(\"Enter the first row: \")\n",
    "    input2 = input(\"Enter the second row: \")\n",
    "    if len(input1) > 10 or len(input2) > 10:\n",
    "        print(\"Invalid Input Size\")\n",
    "        return\n",
    "\n",
    "    for i in range(len(input1)):\n",
    "        board[0][i] = input1[i]\n",
    "        if ord(input1[i]) >= 65 and ord(input1[i]) <= 90:\n",
    "            start1[0] = i\n",
    "\n",
    "    for i in range(len(input2)):\n",
    "        board[1][i] = input2[i]\n",
    "        if ord(input2[i]) >= 65 and ord(input2[i]) <= 90:\n",
    "            start1[1] = i\n",
    "\n",
    "    print(\"Start index for first row: \", start1[0], \"Start character: \", board[0][start1[0]])\n",
    "    print(\"Start index for second row: \", start1[1], \"Start character: \", board[1][start1[1]])\n",
    "    print_board(board,start1,start2)\n",
    "\n",
    "    while True:\n",
    "        user_input = input(\"Enter any character (Q to quit): \")\n",
    "        if user_input == \"Q\" or user_input == \"q\":\n",
    "            break\n",
    "        start1[0] -= 1\n",
    "        start1[1] += 1\n",
    "        print_board(board,start1,start2)\n",
    "\n",
    "# if __name__ == \"__main__\":\n",
    "#     main()\n",
    "main()\n"
   ]
  },
  {
   "cell_type": "code",
   "execution_count": null,
   "metadata": {},
   "outputs": [],
   "source": []
  },
  {
   "cell_type": "code",
   "execution_count": 4,
   "metadata": {},
   "outputs": [
    {
     "name": "stdout",
     "output_type": "stream",
     "text": [
      "[[None, None, None, None, None, None, None, None, None, None], [None, None, None, None, None, None, None, None, None, None]]\n"
     ]
    }
   ],
   "source": [
    "TwoDarr = [[None]*10]*2\n",
    "print(TwoDarr)"
   ]
  }
 ],
 "metadata": {
  "kernelspec": {
   "display_name": "Python 3",
   "language": "python",
   "name": "python3"
  },
  "language_info": {
   "codemirror_mode": {
    "name": "ipython",
    "version": 3
   },
   "file_extension": ".py",
   "mimetype": "text/x-python",
   "name": "python",
   "nbconvert_exporter": "python",
   "pygments_lexer": "ipython3",
   "version": "3.9.5"
  },
  "orig_nbformat": 4,
  "vscode": {
   "interpreter": {
    "hash": "b671c20432fcd147198c92e7f072af9e705f087eb990bee22b07f08caab9f630"
   }
  }
 },
 "nbformat": 4,
 "nbformat_minor": 2
}
