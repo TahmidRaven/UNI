{
 "cells": [
  {
   "cell_type": "code",
   "execution_count": null,
   "metadata": {},
   "outputs": [],
   "source": [
    "TDarr = [[0]*10, [0]*10]\n",
    "print(len(TDarr))\n",
    "\n",
    "print(TDarr[0][1])"
   ]
  },
  {
   "cell_type": "code",
   "execution_count": null,
   "metadata": {},
   "outputs": [],
   "source": []
  },
  {
   "cell_type": "code",
   "execution_count": null,
   "metadata": {},
   "outputs": [],
   "source": [
    "def checkValid(userin0,userin1):\n",
    "    if len(userin0) >10 or len(userin1) > 10:\n",
    "        print(\"Invalid Input Size\")\n",
    "    else: \n",
    "        print(\"Your input is Valid. Enter any key to continue\")\n",
    "        contStop = input(\"\")\n",
    "        \n",
    "userin0 = \"giRtfel2th\"\n",
    "userin1 = \"rightLeft2\"\n",
    "checkValid(userin0,userin1)\n",
    "\n"
   ]
  },
  {
   "cell_type": "code",
   "execution_count": 16,
   "metadata": {},
   "outputs": [
    {
     "name": "stdout",
     "output_type": "stream",
     "text": [
      "[[0, 0, 0, 0, 0, 0, 0, 0, 0, 0], [0, 0, 0, 0, 0, 0, 0, 0, 0, 0]]\n",
      "0 0 0 0 0 0 0 0 0 0 What's happening?\n",
      "0 0 0 0 0 0 0 0 0 0 What's happening?\n",
      "Start index for first row:  0 Start character:  q\n",
      "Start index for second row:  0 Start character:  q\n",
      "[['q', 0, 0, 0, 0, 0, 0, 0, 0, 0], ['q', 0, 0, 0, 0, 0, 0, 0, 0, 0]] [0, 0] [0, 0]\n"
     ]
    },
    {
     "ename": "TypeError",
     "evalue": "Billboard() missing 3 required positional arguments: 'TDarr', 'start1', and 'start2'",
     "output_type": "error",
     "traceback": [
      "\u001b[1;31m---------------------------------------------------------------------------\u001b[0m",
      "\u001b[1;31mTypeError\u001b[0m                                 Traceback (most recent call last)",
      "\u001b[1;32mc:\\CODE\\UNI\\CSE220\\Lab02.ipynb Cell 4\u001b[0m in \u001b[0;36m<module>\u001b[1;34m\u001b[0m\n\u001b[0;32m     <a href='vscode-notebook-cell:/c%3A/CODE/UNI/CSE220/Lab02.ipynb#W3sZmlsZQ%3D%3D?line=38'>39</a>\u001b[0m         \u001b[39mprint\u001b[39m(\u001b[39m\"\u001b[39m\u001b[39mWhat\u001b[39m\u001b[39m'\u001b[39m\u001b[39ms happening?\u001b[39m\u001b[39m\"\u001b[39m)\n\u001b[0;32m     <a href='vscode-notebook-cell:/c%3A/CODE/UNI/CSE220/Lab02.ipynb#W3sZmlsZQ%3D%3D?line=40'>41</a>\u001b[0m myBill()\n\u001b[1;32m---> <a href='vscode-notebook-cell:/c%3A/CODE/UNI/CSE220/Lab02.ipynb#W3sZmlsZQ%3D%3D?line=41'>42</a>\u001b[0m Billboard()\n",
      "\u001b[1;31mTypeError\u001b[0m: Billboard() missing 3 required positional arguments: 'TDarr', 'start1', and 'start2'"
     ]
    }
   ],
   "source": [
    "\n",
    "def myBill():\n",
    "    TDarr = [[0]*10, [0]*10]\n",
    "    print(TDarr)\n",
    "    start1 = [0, 0]\n",
    "    start2 = [0, 0]\n",
    "    printBillboard(TDarr,start1,start2)\n",
    "\n",
    "    input1 = input(\"Enter the first row: \")\n",
    "    input2 = input(\"Enter the second row: \")\n",
    "    if len(input1) > 10 or len(input2) > 10:\n",
    "        return (\"Invalid Input Size\")\n",
    "        \n",
    "\n",
    "\n",
    "    for i in range(len(input1)):\n",
    "        TDarr[0][i] = input1[i]\n",
    "        if ord(input1[i]) >= 65 and ord(input1[i]) <= 90:\n",
    "            start1[0] = i\n",
    "\n",
    "    for i in range(len(input2)):\n",
    "        TDarr[1][i] = input2[i]\n",
    "        if ord(input2[i]) >= 65 and ord(input2[i]) <= 90:\n",
    "            start1[1] = i\n",
    "            \n",
    "\n",
    "    while True:\n",
    "        lastin = input(\"Enter any key(Q for QUIT):\")\n",
    "        if lastin == \"Q\" or lastin == \"q\":\n",
    "            break\n",
    "\n",
    "    print(\"Start index for first row: \", start1[0], \"Start character: \", TDarr[0][start1[0]])\n",
    "    print(\"Start index for second row: \", start1[1], \"Start character: \", TDarr[1][start1[1]])\n",
    "    print(TDarr,start1,start2)\n",
    "    \n",
    "def Billboard(TDarr,start1,start2):\n",
    "    for i in range(len(TDarr)):\n",
    "        for j in range(10):\n",
    "            index = (j + start1[i]) % 10\n",
    "            print(TDarr[i][index], end=\" \")\n",
    "        print(\"What's happening?\")\n",
    "        \n",
    "myBill()\n",
    "Billboard()\n"
   ]
  },
  {
   "cell_type": "code",
   "execution_count": 28,
   "metadata": {},
   "outputs": [
    {
     "name": "stdout",
     "output_type": "stream",
     "text": [
      "Start index for first row:  2 Start character:  R\n",
      "Start index for second row:  5 Start character:  L\n",
      "R t f e l 2 t h g i \n",
      "L e f t 2 r i g h t \n",
      "i R t f e l 2 t h g \n",
      "e f t 2 r i g h t L \n",
      "g i R t f e l 2 t h \n",
      "f t 2 r i g h t L e \n",
      "h g i R t f e l 2 t \n",
      "t 2 r i g h t L e f \n"
     ]
    }
   ],
   "source": [
    "def MyBillboard(board,start1,start2):\n",
    "    for i in range(len(board)):\n",
    "        for j in range(10):\n",
    "            index = (j + start1[i]) % 10\n",
    "            print(board[i][index], end=\" \")\n",
    "        print(\"\")\n",
    "\n",
    "def arr2d():\n",
    "    board = [[0]*10, [0]*10]\n",
    "    start1 = [0, 0]\n",
    "    start2 = [0, 0]\n",
    "\n",
    "    userin1 = input(\"Enter the first row: \")\n",
    "    userin2 = input(\"Enter the second row: \")\n",
    "    if len(userin1) > 10 or len(userin2) > 10:\n",
    "        print(\"Invalid Input Size\")\n",
    "        return\n",
    "\n",
    "    for i in range(len(userin1)):\n",
    "        board[0][i] = userin1[i]\n",
    "        if ord(userin1[i]) >= 65 and ord(userin1[i]) <= 90:\n",
    "            start1[0] = i\n",
    "\n",
    "    for i in range(len(userin2)):\n",
    "        board[1][i] = userin2[i]\n",
    "        if ord(userin2[i]) >= 65 and ord(userin2[i]) <= 90:\n",
    "            start1[1] = i\n",
    "\n",
    "    print(\"Start index for first row: \", start1[0], \"Start character: \", board[0][start1[0]])\n",
    "    print(\"Start index for second row: \", start1[1], \"Start character: \", board[1][start1[1]])\n",
    "    MyBillboard(board,start1,start2)\n",
    "\n",
    "    while True:\n",
    "        user_input = input(\"Enter any character (Q to quit): \")\n",
    "        if user_input == \"Q\" or user_input == \"q\":\n",
    "            break\n",
    "        start1[0] -= 1\n",
    "        start1[1] += 1\n",
    "        # start1[0] = (start1[0] -1) % len(userin1)\n",
    "        # start2[1] = (start1[0] +1) % len(userin2)\n",
    "        \n",
    "        MyBillboard(board,start1,start2)\n",
    "\n",
    "arr2d()\n"
   ]
  }
 ],
 "metadata": {
  "kernelspec": {
   "display_name": "Python 3",
   "language": "python",
   "name": "python3"
  },
  "language_info": {
   "codemirror_mode": {
    "name": "ipython",
    "version": 3
   },
   "file_extension": ".py",
   "mimetype": "text/x-python",
   "name": "python",
   "nbconvert_exporter": "python",
   "pygments_lexer": "ipython3",
   "version": "3.9.5"
  },
  "orig_nbformat": 4,
  "vscode": {
   "interpreter": {
    "hash": "b671c20432fcd147198c92e7f072af9e705f087eb990bee22b07f08caab9f630"
   }
  }
 },
 "nbformat": 4,
 "nbformat_minor": 2
}
