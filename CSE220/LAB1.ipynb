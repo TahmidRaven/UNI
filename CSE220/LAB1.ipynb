{
 "cells": [
  {
   "cell_type": "code",
   "execution_count": 51,
   "metadata": {},
   "outputs": [
    {
     "name": "stdout",
     "output_type": "stream",
     "text": [
      "///  Test 01: Shift Left k cell  ///\n",
      "[40, 50, 60, 0, 0, 0]\n"
     ]
    }
   ],
   "source": [
    "# Test 01: Shift Left k cell\n",
    "\n",
    "def shift_left(source, k):\n",
    "  # TO DO\n",
    "  # Hint, You can write a function for left shift once and then use it\n",
    "    for i in range(k):\n",
    "        source[i] = source[i+k]\n",
    "        source[k+i] = 0\n",
    "          \n",
    "\n",
    "    return source\n",
    "  \n",
    "\n",
    "print(\"///  Test 01: Shift Left k cell  ///\")\n",
    "source = [10,20,30,40,50,60]\n",
    "returned_value = shift_left(source, 3) # This should return [40, 50, 60, 0, 0, 0]\n",
    "print(returned_value)\n",
    "# unittest.output_test(returned_value, [40, 50, 60, 0, 0, 0])"
   ]
  },
  {
   "cell_type": "code",
   "execution_count": 45,
   "metadata": {},
   "outputs": [
    {
     "name": "stdout",
     "output_type": "stream",
     "text": [
      "///  Test 02: Rotate Left k cell  ///\n",
      "[40, 50, 60, 10, 20, 30]\n"
     ]
    }
   ],
   "source": [
    "# Test 02: Rotate Left k cell\n",
    "def rotate_left(source, k):\n",
    "  # TO DO\n",
    "  # Hint, You can write a function for left rotate once and then use it\n",
    "    for i in range(k):\n",
    "        source[i],source[i+k] = source[i+k], source[i]\n",
    "    return source\n",
    "\n",
    "print(\"///  Test 02: Rotate Left k cell  ///\")\n",
    "source = [10,20,30,40,50,60]\n",
    "returned_value = rotate_left(source, 3) # This should return [40, 50, 60, 10, 20, 30]\n",
    "print(returned_value)\n",
    "# unittest.output_test(returned_value, [40, 50, 60, 10, 20, 30])\n"
   ]
  },
  {
   "cell_type": "code",
   "execution_count": 49,
   "metadata": {},
   "outputs": [
    {
     "name": "stdout",
     "output_type": "stream",
     "text": [
      "///  Test 03: Shift Right k cell  ///\n",
      "[0, 0, 0, 10, 20, 30]\n"
     ]
    }
   ],
   "source": [
    "\n",
    "# Test 03: Shift Right k cell\n",
    "def shift_right(source, k):\n",
    "  # TO DO\n",
    "  # Hint, You can write a function for right shift once and then use it\n",
    "  for i in range(k):\n",
    "      source[i+k] = source[i]\n",
    "      source[i]=0\n",
    "      \n",
    "  return source\n",
    "\n",
    "print(\"///  Test 03: Shift Right k cell  ///\")\n",
    "source = [10,20,30,40,50,60]\n",
    "returned_value = shift_right(source, 3) # This should return [0, 0, 0, 10, 20, 30]\n",
    "print(returned_value)\n",
    "# unittest.output_test(returned_value, [0, 0, 0, 10, 20, 30])"
   ]
  },
  {
   "cell_type": "code",
   "execution_count": 53,
   "metadata": {},
   "outputs": [
    {
     "name": "stdout",
     "output_type": "stream",
     "text": [
      "///  Test 04: Rotate Right k cell  ///\n",
      "[40, 50, 60, 10, 20, 30]\n"
     ]
    }
   ],
   "source": [
    "\n",
    "# Test 04: Rotate Right k cell\n",
    "def rotate_right(source, k):\n",
    "  # TO DO\n",
    "  # Hint, You can write a function for right rotate once and then use it\n",
    "  for i in range(k):\n",
    "      source[i], source[i+k] = source[i+k], source[i]\n",
    "  return source\n",
    "\n",
    "print(\"///  Test 04: Rotate Right k cell  ///\")\n",
    "source = [10,20,30,40,50,60]\n",
    "returned_value = rotate_right(source, 3) # This should return [40, 50, 60, 10, 20, 30]\n",
    "# unittest.output_test(returned_value, [40, 50, 60, 10, 20, 30])\n",
    "print(returned_value)"
   ]
  },
  {
   "cell_type": "code",
   "execution_count": 12,
   "metadata": {},
   "outputs": [
    {
     "name": "stdout",
     "output_type": "stream",
     "text": [
      "///  Test 05: Remove an element from an array  ///\n",
      "[10, 20, 30, 40, 50, 0, 0]\n",
      "[10, 20, 40, 40, 50, 0, None]\n"
     ]
    }
   ],
   "source": [
    "# Test 05: Remove an element from an array\n",
    "def remove(source, idx):\n",
    "  # TO DO\n",
    "  for i in range(idx, len(source)+1):\n",
    "    source[idx] = source[idx+1]\n",
    "    source[len(source)-1] = None\n",
    "    return source\n",
    "\n",
    "print(\"///  Test 05: Remove an element from an array  ///\")\n",
    "source = [10,20,30,40,50,0,0]\n",
    "print(source)\n",
    "returned_value = remove(source, 2) # This should return [10, 20, 40, 50, 0, 0, 0]\n",
    "# unittest.output_test(returned_value, [10, 20, 40, 50, 0, 0, 0])\n",
    "print(returned_value)"
   ]
  },
  {
   "cell_type": "code",
   "execution_count": 62,
   "metadata": {},
   "outputs": [],
   "source": [
    "#Part 2 \n",
    "\n",
    "\n",
    "\n",
    "def mean(source):\n",
    "    for i in range(len(source)):\n",
    "        sumo = 0\n",
    "        sumo += source[i]\n",
    "        i += 1\n",
    "    return sumo\n",
    "    print(\n",
    "\n",
    "\n",
    "source = [10, 8, 13, 9, 14, 25, -5, 20, 7, 7, 4]\n"
   ]
  },
  {
   "cell_type": "code",
   "execution_count": 69,
   "metadata": {},
   "outputs": [
    {
     "name": "stdout",
     "output_type": "stream",
     "text": [
      "0\n",
      "1\n",
      "2\n",
      "3\n",
      "4\n",
      "7\n",
      "6\n",
      "8\n",
      "9\n",
      "9\n",
      "10\n"
     ]
    }
   ],
   "source": [
    "sumo = 0\n",
    "\n",
    "for i in range(len(source)):\n",
    "    sumo += source[i]\n",
    "    i = i + 1\n",
    "    \n",
    "    mean = sumo// len(source)\n",
    "    ="
   ]
  },
  {
   "cell_type": "code",
   "execution_count": 72,
   "metadata": {},
   "outputs": [
    {
     "name": "stdout",
     "output_type": "stream",
     "text": [
      "10.181818181818182\n"
     ]
    }
   ],
   "source": [
    "# part 2.1\n",
    "def mean(source):\n",
    "    sumo = 0 \n",
    "    for i in range(len(source)):\n",
    "        sumo += source[i]\n",
    "        i =+ 1\n",
    "        \n",
    "    return sumo / len(source)\n",
    "  \n",
    "source = [10, 8, 13, 9, 14, 25, -5, 20, 7, 7, 4]\n",
    "\n",
    "mean = mean(source)\n",
    "print(mean)"
   ]
  },
  {
   "cell_type": "code",
   "execution_count": 85,
   "metadata": {},
   "outputs": [
    {
     "name": "stdout",
     "output_type": "stream",
     "text": [
      "30.73789488267181\n"
     ]
    }
   ],
   "source": [
    "#part 2.2\n",
    "import math \n",
    "def sandardDev(source):\n",
    "    sumo = 0 \n",
    "    sumo1 = 0\n",
    "    for i in range(len(source)):\n",
    "        sumo += source[i]\n",
    "        i =+ 1\n",
    "        \n",
    "        sumo / len(source)\n",
    "\n",
    "    for i in source:\n",
    "        subsq = (i - sumo)**2\n",
    "        sumo1 += subsq\n",
    "        i += 1\n",
    "        stand = (sumo1 / len(source)-1)**.5\n",
    "        # x = math.sqrt(stand)\n",
    "        return stand\n",
    "\n",
    "  \n",
    "source = [10, 8, 13, 9, 14, 25, -5, 20, 7, 7, 4]\n",
    "SD = sandardDev(source)\n",
    "print(SD)\n",
    "\n"
   ]
  }
 ],
 "metadata": {
  "kernelspec": {
   "display_name": "Python 3",
   "language": "python",
   "name": "python3"
  },
  "language_info": {
   "codemirror_mode": {
    "name": "ipython",
    "version": 3
   },
   "file_extension": ".py",
   "mimetype": "text/x-python",
   "name": "python",
   "nbconvert_exporter": "python",
   "pygments_lexer": "ipython3",
   "version": "3.9.5"
  },
  "orig_nbformat": 4,
  "vscode": {
   "interpreter": {
    "hash": "b671c20432fcd147198c92e7f072af9e705f087eb990bee22b07f08caab9f630"
   }
  }
 },
 "nbformat": 4,
 "nbformat_minor": 2
}
