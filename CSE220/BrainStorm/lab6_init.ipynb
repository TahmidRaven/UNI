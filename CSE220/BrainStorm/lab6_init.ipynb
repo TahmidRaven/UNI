{
 "cells": [
  {
   "attachments": {},
   "cell_type": "markdown",
   "metadata": {},
   "source": [
    "##TASK 1"
   ]
  },
  {
   "cell_type": "code",
   "execution_count": 2,
   "metadata": {},
   "outputs": [
    {
     "data": {
      "text/plain": [
       "120"
      ]
     },
     "execution_count": 2,
     "metadata": {},
     "output_type": "execute_result"
    }
   ],
   "source": [
    "#Task 1.a\n",
    "def fact(n):\n",
    "    if n== 0 or n== 1:\n",
    "        return 1\n",
    "    else:\n",
    "        return n * fact(n-1)\n",
    "    \n",
    "fact(5)"
   ]
  },
  {
   "cell_type": "code",
   "execution_count": 3,
   "metadata": {},
   "outputs": [
    {
     "data": {
      "text/plain": [
       "55"
      ]
     },
     "execution_count": 3,
     "metadata": {},
     "output_type": "execute_result"
    }
   ],
   "source": [
    "#Task 1.b\n",
    "\n",
    "def fib(n):\n",
    "    if n == 0 or n == 1:\n",
    "        return n\n",
    "    else:\n",
    "        return fib(n-1)+fib(n-2)\n",
    "    \n",
    "fib(10)"
   ]
  },
  {
   "cell_type": "code",
   "execution_count": 4,
   "metadata": {},
   "outputs": [
    {
     "name": "stdout",
     "output_type": "stream",
     "text": [
      "1\n",
      "2\n",
      "3\n",
      "4\n",
      "5\n"
     ]
    }
   ],
   "source": [
    "#Task 1.c\n",
    "\n",
    "def arr_recur(arr, i=0):\n",
    "    # Base case when index == len(arr)\n",
    "    if i == len(arr):\n",
    "        return\n",
    "\n",
    "    print(arr[i])\n",
    "    arr_recur(arr, i+1)\n",
    "\n",
    "arr = [1, 2, 3, 4, 5]\n",
    "arr_recur(arr)\n"
   ]
  },
  {
   "cell_type": "code",
   "execution_count": 5,
   "metadata": {},
   "outputs": [
    {
     "name": "stdout",
     "output_type": "stream",
     "text": [
      "2\n",
      "3\n",
      "5\n",
      "7\n",
      "11\n",
      "13\n"
     ]
    }
   ],
   "source": [
    "#Task 1.c\n",
    "\n",
    "def arr_recur(arr, i =0):\n",
    "    # Base case when index == len(arr)\n",
    "    \n",
    "    if i == len(arr):\n",
    "        return \n",
    "    \n",
    "    print(arr[i])\n",
    "    arr_recur(arr, i+1)\n",
    "\n",
    "arr = [2,3,5,7,11,13]\n",
    "arr_recur(arr)"
   ]
  },
  {
   "cell_type": "code",
   "execution_count": 6,
   "metadata": {},
   "outputs": [
    {
     "data": {
      "text/plain": [
       "27"
      ]
     },
     "execution_count": 6,
     "metadata": {},
     "output_type": "execute_result"
    }
   ],
   "source": [
    "#Task 1.d\n",
    "\n",
    "def powerN(base, n):\n",
    "    \n",
    "    if n == 0:\n",
    "        return 1\n",
    "    else:\n",
    "        return (base * powerN(base, n-1))\n",
    "\n",
    "powerN(3,3)\n",
    "        "
   ]
  },
  {
   "cell_type": "code",
   "execution_count": 15,
   "metadata": {},
   "outputs": [
    {
     "name": "stdout",
     "output_type": "stream",
     "text": [
      "011000"
     ]
    }
   ],
   "source": [
    "#Task 2.a\n",
    "\n",
    "def DecimalToBinary(num):\n",
    "\t\n",
    "\tif num >= 1:\n",
    "\t\tDecimalToBinary(num // 2)\n",
    "\tprint(num % 2, end=\"\")\n",
    "\n",
    "dec_val = 24\n",
    "DecimalToBinary(dec_val)\n",
    "\n",
    "\n"
   ]
  },
  {
   "cell_type": "code",
   "execution_count": 21,
   "metadata": {},
   "outputs": [
    {
     "name": "stdout",
     "output_type": "stream",
     "text": [
      "15\n"
     ]
    }
   ],
   "source": [
    "#Task 2.b\n",
    "\n",
    "class Node:\n",
    "    def __init__(self, val):\n",
    "        self.val = val\n",
    "        self.next = None\n",
    "        \n",
    "def sumLinkedList(head):\n",
    "    if not head:\n",
    "        return 0\n",
    "    else:\n",
    "        return head.val + sumLinkedList(head.next)\n",
    "\n",
    "head = Node(1)\n",
    "head.next = Node(2)\n",
    "head.next.next = Node(3)\n",
    "head.next.next.next = Node(4)\n",
    "head.next.next.next.next = Node(5)\n",
    "\n",
    "# print(sumLinkedList)\n",
    "print(sumLinkedList(head)) # Output: 15\n"
   ]
  },
  {
   "cell_type": "code",
   "execution_count": 20,
   "metadata": {},
   "outputs": [
    {
     "name": "stdout",
     "output_type": "stream",
     "text": [
      "40\n",
      "30\n",
      "20\n",
      "10\n"
     ]
    }
   ],
   "source": [
    "#Task 2.c\n",
    "\n",
    "class Node:\n",
    "    def __init__(self, val):\n",
    "        self.val = val\n",
    "        self.next = None\n",
    "\n",
    "def printReverse(head):\n",
    "    if not head:\n",
    "        return\n",
    "    else:\n",
    "        printReverse(head.next)\n",
    "        print(head.val)\n",
    "        \n",
    "head = Node(10)\n",
    "head.next = Node(20)\n",
    "head.next.next = Node(30)\n",
    "head.next.next.next = Node(40)\n",
    "# Linked list now 10->20->30->40\n",
    "printReverse(head) \n",
    "\n"
   ]
  },
  {
   "cell_type": "code",
   "execution_count": 23,
   "metadata": {},
   "outputs": [
    {
     "name": "stdout",
     "output_type": "stream",
     "text": [
      "[1, 2, 3, 4, 5, 6, 7, 8, 9, 10, 11, 12, 13, 14, 15, 16, 17]\n"
     ]
    }
   ],
   "source": [
    "def flattenList(given_list, output_list):\n",
    "    for i in given_list:\n",
    "        if type(i) == list:\n",
    "            flattenList(i, output_list)\n",
    "        else:\n",
    "            output_list.append(i)\n",
    "    return output_list\n",
    "\n",
    "given_list = [1, [2, [3, [4], 5], 6], 7, 8, [9, [[10, 11], 12], 13], 14, [15, [16, [17]]]]\n",
    "output_list = flattenList(given_list, [])\n",
    "print(output_list) \n"
   ]
  },
  {
   "cell_type": "code",
   "execution_count": 24,
   "metadata": {},
   "outputs": [
    {
     "name": "stdout",
     "output_type": "stream",
     "text": [
      "[1, 2, 3, 4, 5, 6, 7, 8, 9, 10, 11, 12, 13, 14, 15, 16, 17]\n"
     ]
    }
   ],
   "source": [
    "def flattenList(given_list):\n",
    "    if given_list == []:\n",
    "        return []\n",
    "    elif isinstance(given_list[0], list):\n",
    "        return flattenList(given_list[0]) + flattenList(given_list[1:])\n",
    "    else:\n",
    "        return [given_list[0]] + flattenList(given_list[1:])\n",
    "    \n",
    "given_list = [1, [2, [3, [4], 5], 6], 7, 8, [9, [[10, 11], 12], 13], 14, [15, [16, [17]]]]\n",
    "output_list = flattenList(given_list)\n",
    "print(output_list)\n",
    "\n",
    "def flattenList(given_list):\n",
    "    if given_list == []:\n",
    "        return []\n",
    "    \n"
   ]
  }
 ],
 "metadata": {
  "kernelspec": {
   "display_name": "Python 3",
   "language": "python",
   "name": "python3"
  },
  "language_info": {
   "codemirror_mode": {
    "name": "ipython",
    "version": 3
   },
   "file_extension": ".py",
   "mimetype": "text/x-python",
   "name": "python",
   "nbconvert_exporter": "python",
   "pygments_lexer": "ipython3",
   "version": "3.9.13"
  },
  "orig_nbformat": 4
 },
 "nbformat": 4,
 "nbformat_minor": 2
}
