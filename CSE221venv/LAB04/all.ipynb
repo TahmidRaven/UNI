{
 "cells": [
  {
   "cell_type": "code",
   "execution_count": 1,
   "metadata": {},
   "outputs": [
    {
     "name": "stdout",
     "output_type": "stream",
     "text": [
      "1 : (5,6) (3,9) \n",
      "2 : \n",
      "3 : (4,7) \n",
      "4 : (6,1) \n",
      "5 : (6,8) \n",
      "6 : (3,5) (1,6) \n"
     ]
    }
   ],
   "source": [
    "#1b\n",
    "\n",
    "def create_adjacency_list(N, M, edges):\n",
    "    # Initialize an empty adjacency list\n",
    "    adjacency_list = [[] for _ in range(N)]\n",
    "\n",
    "    # Populate the adjacency list with edges\n",
    "    for u, v, w in edges:\n",
    "        adjacency_list[u-1].append((v, w))\n",
    "\n",
    "    return adjacency_list\n",
    "\n",
    "# Read input from the file\n",
    "input_file_path = \"C:\\\\CODE\\\\TahmidRaven\\\\UNI\\\\CSE221venv\\\\LAB04\\\\task01_a_input02.txt\"\n",
    "\n",
    "with open(input_file_path, 'r') as file:\n",
    "    N, M = map(int, file.readline().split())\n",
    "    edges = []\n",
    "    for _ in range(M):\n",
    "        u, v, w = map(int, file.readline().split())\n",
    "        edges.append((u, v, w))\n",
    "\n",
    "# Create the adjacency list\n",
    "adjacency_list = create_adjacency_list(N, M, edges)\n",
    "\n",
    "# Print the adjacency list\n",
    "for i, neighbors in enumerate(adjacency_list):\n",
    "    print(f\"{i+1} :\", end=\" \")\n",
    "    if neighbors:\n",
    "        for neighbor, weight in neighbors:\n",
    "            print(f\"({neighbor},{weight})\", end=\" \")\n",
    "    print()\n"
   ]
  },
  {
   "cell_type": "code",
   "execution_count": 2,
   "metadata": {},
   "outputs": [],
   "source": [
    "def create_adjacency_list(N, M, edges):\n",
    "    # Initialize an empty adjacency list\n",
    "    adjacency_list = [[] for _ in range(N)]\n",
    "\n",
    "    # Populate the adjacency list with edges\n",
    "    for u, v, w in edges:\n",
    "        adjacency_list[u-1].append((v, w))\n",
    "\n",
    "    return adjacency_list\n",
    "\n",
    "# Read input from the file\n",
    "input_file_path = \"C:\\\\CODE\\\\TahmidRaven\\\\UNI\\\\CSE221venv\\\\LAB04\\\\task01_a_input02.txt\"\n",
    "output_file_path = \"C:\\\\CODE\\\\TahmidRaven\\\\UNI\\\\CSE221venv\\\\LAB04\\\\task01_b_output.txt\"\n",
    "\n",
    "with open(input_file_path, 'r') as file:\n",
    "    N, M = map(int, file.readline().split())\n",
    "    edges = []\n",
    "    for _ in range(M):\n",
    "        u, v, w = map(int, file.readline().split())\n",
    "        edges.append((u, v, w))\n",
    "\n",
    "# Create the adjacency list\n",
    "adjacency_list = create_adjacency_list(N, M, edges)\n",
    "\n",
    "# Write the adjacency list to the output file\n",
    "with open(output_file_path, 'w') as file:\n",
    "    for i, neighbors in enumerate(adjacency_list):\n",
    "        file.write(f\"{i} : \")\n",
    "        if neighbors:\n",
    "            for neighbor, weight in neighbors:\n",
    "                file.write(f\"({neighbor},{weight}) \")\n",
    "        file.write(\"\\n\")\n"
   ]
  },
  {
   "cell_type": "code",
   "execution_count": 3,
   "metadata": {},
   "outputs": [],
   "source": [
    "#2\n",
    "\n",
    "\n",
    "\n",
    "from collections import deque\n",
    "\n",
    "def bfs(adj_list):\n",
    "    n = len(adj_list)\n",
    "    visited = [0] * n  # Initialize color array\n",
    "    visited[0] = 1  # Mark the starting vertex as visited\n",
    "    queue = deque([0])  # Create a queue and enqueue the starting vertex\n",
    "    path = []  # Store the BFS path traversal\n",
    "\n",
    "    while queue:\n",
    "        u = queue.popleft()  # Dequeue a vertex\n",
    "        path.append(u+1)  # Add the vertex to the path\n",
    "        for v in adj_list[u]:\n",
    "            if visited[v] == 0:  # If v is unvisited\n",
    "                visited[v] = 1  # Mark v as visited\n",
    "                queue.append(v)  # Enqueue v\n",
    "\n",
    "    return path\n",
    "\n",
    "\n",
    "\n",
    "input_file_path = \"C:\\\\CODE\\\\TahmidRaven\\\\UNI\\\\CSE221venv\\\\LAB04\\\\task02_input01.txt\"\n",
    "output_file_path = \"C:\\\\CODE\\\\TahmidRaven\\\\UNI\\\\CSE221venv\\\\LAB04\\\\task02_output01.txt\"\n",
    "\n",
    "# Read input from file\n",
    "with open(input_file_path, 'r') as input_file:\n",
    "    N, M = map(int, input_file.readline().split())\n",
    "    adj_list = [[] for _ in range(N)]\n",
    "    for _ in range(M):\n",
    "        u, v = map(int, input_file.readline().split())\n",
    "        adj_list[u-1].append(v-1)\n",
    "        adj_list[v-1].append(u-1)\n",
    "\n",
    "# Find BFS path traversal\n",
    "bfs_path = bfs(adj_list)\n",
    "\n",
    "# Write output to file\n",
    "with open(output_file_path, 'w') as output_file:\n",
    "    output_file.write(' '.join(map(str, bfs_path)))\n"
   ]
  },
  {
   "cell_type": "code",
   "execution_count": 5,
   "metadata": {},
   "outputs": [
    {
     "name": "stdout",
     "output_type": "stream",
     "text": [
      "[[0, 0, 0, 0], [0, 0, 0, 0], [0, 0, 0, 0], [0, 0, 0, 0]]\n"
     ]
    }
   ],
   "source": [
    "matrix = [[0] * (N) for i in range(N)]\n",
    "print(matrix)"
   ]
  }
 ],
 "metadata": {
  "kernelspec": {
   "display_name": "Python 3",
   "language": "python",
   "name": "python3"
  },
  "language_info": {
   "codemirror_mode": {
    "name": "ipython",
    "version": 3
   },
   "file_extension": ".py",
   "mimetype": "text/x-python",
   "name": "python",
   "nbconvert_exporter": "python",
   "pygments_lexer": "ipython3",
   "version": "3.9.13"
  },
  "orig_nbformat": 4
 },
 "nbformat": 4,
 "nbformat_minor": 2
}
