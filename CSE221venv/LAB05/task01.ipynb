{
 "cells": [
  {
   "cell_type": "code",
   "execution_count": 1,
   "metadata": {},
   "outputs": [
    {
     "ename": "TypeError",
     "evalue": "find_order_dfs() takes 2 positional arguments but 3 were given",
     "output_type": "error",
     "traceback": [
      "\u001b[1;31m---------------------------------------------------------------------------\u001b[0m",
      "\u001b[1;31mTypeError\u001b[0m                                 Traceback (most recent call last)",
      "Cell \u001b[1;32mIn[1], line 44\u001b[0m\n\u001b[0;32m     41\u001b[0m prerequisites3 \u001b[39m=\u001b[39m [(\u001b[39m1\u001b[39m, \u001b[39m2\u001b[39m), (\u001b[39m1\u001b[39m, \u001b[39m4\u001b[39m), (\u001b[39m2\u001b[39m, \u001b[39m4\u001b[39m), (\u001b[39m2\u001b[39m, \u001b[39m5\u001b[39m), (\u001b[39m2\u001b[39m, \u001b[39m3\u001b[39m), (\u001b[39m4\u001b[39m, \u001b[39m6\u001b[39m), (\u001b[39m4\u001b[39m, \u001b[39m5\u001b[39m), (\u001b[39m6\u001b[39m, \u001b[39m5\u001b[39m), (\u001b[39m5\u001b[39m, \u001b[39m3\u001b[39m), (\u001b[39m7\u001b[39m, \u001b[39m8\u001b[39m)]\n\u001b[0;32m     43\u001b[0m \u001b[39m# Calculate results using DFS approach\u001b[39;00m\n\u001b[1;32m---> 44\u001b[0m result_dfs1 \u001b[39m=\u001b[39m find_order_dfs(\u001b[39m*\u001b[39;49minput1, prerequisites1)\n\u001b[0;32m     45\u001b[0m result_dfs2 \u001b[39m=\u001b[39m find_order_dfs(\u001b[39m*\u001b[39minput2, prerequisites2)\n\u001b[0;32m     46\u001b[0m result_dfs3 \u001b[39m=\u001b[39m find_order_dfs(\u001b[39m*\u001b[39minput3, prerequisites3)\n",
      "\u001b[1;31mTypeError\u001b[0m: find_order_dfs() takes 2 positional arguments but 3 were given"
     ]
    }
   ],
   "source": [
    "def dfs(node, graph, visited, result):\n",
    "    if visited[node] == 2:\n",
    "        return True\n",
    "    if visited[node] == 1:\n",
    "        return False\n",
    "    \n",
    "    visited[node] = 1\n",
    "    for neighbor in graph[node]:\n",
    "        if not dfs(neighbor, graph, visited, result):\n",
    "            return False\n",
    "        \n",
    "    visited[node] = 2\n",
    "    result.append(node)\n",
    "    return True\n",
    "\n",
    "def find_order_dfs(num_courses, prerequisites):\n",
    "    graph = {i: [] for i in range(1, num_courses + 1)}\n",
    "    for prerequisite in prerequisites:\n",
    "        graph[prerequisite[0]].append(prerequisite[1])\n",
    "\n",
    "    visited = [0] * (num_courses + 1)\n",
    "    result = []\n",
    "\n",
    "    for i in range(1, num_courses + 1):\n",
    "        if visited[i] == 0:\n",
    "            if not dfs(i, graph, visited, result):\n",
    "                return \"IMPOSSIBLE\"\n",
    "\n",
    "    return result[::-1]\n",
    "\n",
    "# Sample Input 1\n",
    "input1 = (5, 3)\n",
    "prerequisites1 = [(3, 1), (1, 2), (4, 5)]\n",
    "\n",
    "# Sample Input 2\n",
    "input2 = (6, 6)\n",
    "prerequisites2 = [(1, 2), (2, 3), (4, 3), (4, 5), (5, 6), (6, 4)]\n",
    "\n",
    "# Sample Input 3\n",
    "input3 = (8, 10)\n",
    "prerequisites3 = [(1, 2), (1, 4), (2, 4), (2, 5), (2, 3), (4, 6), (4, 5), (6, 5), (5, 3), (7, 8)]\n",
    "\n",
    "# Calculate results using DFS approach\n",
    "result_dfs1 = find_order_dfs(*input1, prerequisites1)\n",
    "result_dfs2 = find_order_dfs(*input2, prerequisites2)\n",
    "result_dfs3 = find_order_dfs(*input3, prerequisites3)\n",
    "\n",
    "# Output results\n",
    "print(*result_dfs1)  # Output: 3 4 1 5 2\n",
    "print(*result_dfs2)  # Output: IMPOSSIBLE\n",
    "print(*result_dfs3)  # Output: 1 7 2 8 4 6 5 3\n"
   ]
  }
 ],
 "metadata": {
  "kernelspec": {
   "display_name": "Python 3",
   "language": "python",
   "name": "python3"
  },
  "language_info": {
   "codemirror_mode": {
    "name": "ipython",
    "version": 3
   },
   "file_extension": ".py",
   "mimetype": "text/x-python",
   "name": "python",
   "nbconvert_exporter": "python",
   "pygments_lexer": "ipython3",
   "version": "3.9.13"
  },
  "orig_nbformat": 4
 },
 "nbformat": 4,
 "nbformat_minor": 2
}
