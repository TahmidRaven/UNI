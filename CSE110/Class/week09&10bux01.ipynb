{
 "cells": [
  {
   "cell_type": "code",
   "execution_count": null,
   "metadata": {},
   "outputs": [],
   "source": [
    "def my_function():\n",
    "    print(\"hello raven it's your function\")\n",
    "my_function()\n",
    "\n",
    "#this was a fruitful func; if the fuc doesn't return any value then it's a void func"
   ]
  },
  {
   "cell_type": "code",
   "execution_count": 1,
   "metadata": {},
   "outputs": [
    {
     "name": "stdout",
     "output_type": "stream",
     "text": [
      "69\n"
     ]
    }
   ],
   "source": [
    "def newCode(raven, mochi):\n",
    "    max = None\n",
    "    if raven > mochi:\n",
    "        max = raven\n",
    "    else:\n",
    "        max = mochi\n",
    "    return max\n",
    "print(newCode(69,59))\n",
    "    \n",
    "    "
   ]
  },
  {
   "cell_type": "code",
   "execution_count": 2,
   "metadata": {},
   "outputs": [
    {
     "name": "stdout",
     "output_type": "stream",
     "text": [
      "How's it going TAHMID\n"
     ]
    }
   ],
   "source": [
    "def nameFunc(fname):\n",
    "    print(\"How's it going\",fname)\n",
    "nameFunc(\"TAHMID\")"
   ]
  },
  {
   "cell_type": "code",
   "execution_count": 1,
   "metadata": {},
   "outputs": [
    {
     "name": "stdout",
     "output_type": "stream",
     "text": [
      "Tahmid went to Jamuna Future Park to shop \n"
     ]
    }
   ],
   "source": [
    "def shopping(name, place):\n",
    "    print(name+\" went to \"+place+\" to shop \")\n",
    "shopping(\"Tahmid\", \"Jamuna Future Park\")"
   ]
  },
  {
   "cell_type": "code",
   "execution_count": 2,
   "metadata": {},
   "outputs": [
    {
     "name": "stdout",
     "output_type": "stream",
     "text": [
      "Corona Positive: male: 999 female: 777\n"
     ]
    }
   ],
   "source": [
    "def CovidStat(*update):\n",
    "    print(\"Corona Positive:\",update[0],update[1],update[2],update[3])\n",
    "CovidStat(\"male:\",999,\"female:\",777)"
   ]
  },
  {
   "cell_type": "code",
   "execution_count": 1,
   "metadata": {},
   "outputs": [
    {
     "name": "stdout",
     "output_type": "stream",
     "text": [
      "Corona Positive: male: 999 female: 777\n"
     ]
    }
   ],
   "source": [
    "def CovidStat(*update):\n",
    "    print(\"Corona Positive:\",update[0],update[1],update[2],update[3])\n",
    "CovidStat(\"male:\",999,\"female:\",777)\n"
   ]
  }
 ],
 "metadata": {
  "interpreter": {
   "hash": "a12d694c3ccac42055183a0ad11e659c6a2db5c6555ad2c8919d5814fd4e404f"
  },
  "kernelspec": {
   "display_name": "Python 3.9.5 64-bit (system)",
   "language": "python",
   "name": "python3"
  },
  "language_info": {
   "codemirror_mode": {
    "name": "ipython",
    "version": 3
   },
   "file_extension": ".py",
   "mimetype": "text/x-python",
   "name": "python",
   "nbconvert_exporter": "python",
   "pygments_lexer": "ipython3",
   "version": "3.9.12"
  },
  "orig_nbformat": 4
 },
 "nbformat": 4,
 "nbformat_minor": 2
}
