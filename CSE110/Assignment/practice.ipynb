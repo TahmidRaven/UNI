{
 "cells": [
  {
   "cell_type": "code",
   "execution_count": 13,
   "metadata": {},
   "outputs": [
    {
     "name": "stdout",
     "output_type": "stream",
     "text": [
      "-36\n"
     ]
    }
   ],
   "source": [
    "# Type 04\n",
    "a = -40\n",
    "b = -4\n",
    "if (a < b):\n",
    "    diff = a-b\n",
    "else:\n",
    "    diff = b-a\n",
    "print(diff)"
   ]
  },
  {
   "cell_type": "code",
   "execution_count": 13,
   "metadata": {},
   "outputs": [
    {
     "name": "stdout",
     "output_type": "stream",
     "text": [
      "multiple of 3 or 5\n"
     ]
    }
   ],
   "source": [
    "\n",
    "# Task 06 kinda not really maybe a task 08\n",
    "\n",
    "var1 =15\n",
    "if(var1 % 3 == 0 or var1 % 5 ==0):\n",
    "    print(\"multiple of 3 or 5\")\n",
    "\n",
    "# if(var1 %3 !=0 or var1 %5 !=0):\n",
    "#     print(\"neither\")\n",
    "# else:\n",
    "#     print(\"maybe\")"
   ]
  },
  {
   "cell_type": "code",
   "execution_count": 31,
   "metadata": {},
   "outputs": [
    {
     "name": "stdout",
     "output_type": "stream",
     "text": [
      "Your seconds have turned into: 2222222\n"
     ]
    }
   ],
   "source": [
    "q = (int(input(\"Enter your seconds:\")))\n",
    "print(\"Your seconds have turned into:\", q)"
   ]
  },
  {
   "cell_type": "code",
   "execution_count": 4,
   "metadata": {},
   "outputs": [
    {
     "data": {
      "text/plain": [
       "False"
      ]
     },
     "execution_count": 4,
     "metadata": {},
     "output_type": "execute_result"
    }
   ],
   "source": [
    "True and False"
   ]
  },
  {
   "cell_type": "code",
   "execution_count": 3,
   "metadata": {},
   "outputs": [
    {
     "data": {
      "text/plain": [
       "False"
      ]
     },
     "execution_count": 3,
     "metadata": {},
     "output_type": "execute_result"
    }
   ],
   "source": [
    "\n",
    "False and False"
   ]
  },
  {
   "cell_type": "code",
   "execution_count": 2,
   "metadata": {},
   "outputs": [
    {
     "data": {
      "text/plain": [
       "True"
      ]
     },
     "execution_count": 2,
     "metadata": {},
     "output_type": "execute_result"
    }
   ],
   "source": [
    "True and True\n"
   ]
  },
  {
   "cell_type": "code",
   "execution_count": 15,
   "metadata": {},
   "outputs": [
    {
     "name": "stdout",
     "output_type": "stream",
     "text": [
      "Multiple of 2 and 5\n"
     ]
    }
   ],
   "source": [
    "\n",
    "var = int(input(\"user put your number here:\"))\n",
    "\n",
    "if(var %2 ==0 or var %5 ==0):\n",
    "    print(\"Multiple of 2 and 5\")"
   ]
  },
  {
   "cell_type": "code",
   "execution_count": 1,
   "metadata": {},
   "outputs": [
    {
     "name": "stdout",
     "output_type": "stream",
     "text": [
      "The equivalent duration is 0:06:10:22.\n"
     ]
    }
   ],
   "source": [
    "#voila solved it\n",
    "\n",
    "Seconds_Per_Hour = 3600\n",
    "Seconds_Per_Min = 60\n",
    "\n",
    "Num_Of_Sec = int(input(\"Input a number of seconds:\"))\n",
    "\n",
    "Hours = Num_Of_Sec // Seconds_Per_Hour\n",
    "Seconds = Num_Of_Sec % Seconds_Per_Hour\n",
    "print(\"Hour:\",Hours, end=\" \")\n",
    "\n",
    "Mins = Seconds // Seconds_Per_Min\n",
    "Seconds = Seconds % Seconds_Per_Min\n",
    "print(\"Min:\",Mins, end=\" \")\n",
    "print(\"Seconds:\", Seconds)"
   ]
  },
  {
   "cell_type": "code",
   "execution_count": null,
   "metadata": {},
   "outputs": [],
   "source": [
    "\n",
    "# elif(3.90<= cgpa >=3.94):\n",
    "#     print(\"The student is eligible for a waiver of 50 percent\")\n",
    "# elif(3.95<= cgpa >=3.99):\n",
    "#     print(\"The student is eligible for a waiver of 75 percent\")\n",
    "# else:(4.00 == cgpa)\n",
    "# print(\"This student is eligible for a waiver of 100 percent\")"
   ]
  },
  {
   "cell_type": "code",
   "execution_count": 6,
   "metadata": {},
   "outputs": [
    {
     "name": "stdout",
     "output_type": "stream",
     "text": [
      "price is less than 100\n"
     ]
    }
   ],
   "source": [
    "price = 50\n",
    "\n",
    "if price > 100:\n",
    "    print(\"price is greater than 100\")\n",
    "elif price == 100:\n",
    "    print(\"price is 100\")\n",
    "else:\n",
    "    \n",
    "    print(\"price is less than 100\")"
   ]
  },
  {
   "cell_type": "code",
   "execution_count": 3,
   "metadata": {},
   "outputs": [
    {
     "name": "stdout",
     "output_type": "stream",
     "text": [
      "80.0 km/h\n",
      "Velocity is okay. The car is ready!\n",
      "Too fast. Only a few changes should suffice\n"
     ]
    }
   ],
   "source": [
    "dis =float(input(\"Distance:\")) # meters\n",
    "time =float(input(\"Time:\"))    # seconds\n",
    "\n",
    "# conversion into km and h\n",
    "d = dis/1000\n",
    "t = time/3600\n",
    "\n",
    "# velocity = distace/time\n",
    "v = d/t\n",
    "print(v, \"km/h\")\n",
    "\n",
    "if(v <60):\n",
    "    print(\"Too slow. Needs more changes\")\n",
    "elif(60< v and v <90):\n",
    "    print(\"Velocity is okay. The car is ready!\")\n",
    "elif(v >90):\n",
    "    print(\"Too fast. Only a few changes should suffice\")\n",
    "\n"
   ]
  },
  {
   "cell_type": "code",
   "execution_count": 1,
   "metadata": {},
   "outputs": [
    {
     "name": "stdout",
     "output_type": "stream",
     "text": [
      "1237.6000000000001 degrees C\n",
      "Summer\n"
     ]
    }
   ],
   "source": [
    "temp = float(input(\"Enter Current Temperater:\"))\n",
    "\n",
    "tempCel = (temp - 32)*0.56\n",
    "\n",
    "print(tempCel, \"degrees C\")\n",
    "\n",
    "if(tempCel < 20):\n",
    "    print(\"Winter\")\n",
    "elif(tempCel > 20 and tempCel <25):\n",
    "    print(\"Autumn\")\n",
    "elif(tempCel > 25 and tempCel <30):\n",
    "    print(\"Spring\")\n",
    "else:(tempCel >= 30, print(\"Summer\"))\n"
   ]
  },
  {
   "cell_type": "code",
   "execution_count": 9,
   "metadata": {},
   "outputs": [
    {
     "name": "stdout",
     "output_type": "stream",
     "text": [
      "Sayonara\n",
      "Sayonara\n",
      "Sayonara\n",
      "Sayonara\n"
     ]
    }
   ],
   "source": [
    "count =1\n",
    "while count <5:\n",
    "    print (\"Sayonara\")\n",
    "    count +=1\n",
    "    if count ==4:\n",
    "            # break\n",
    "        continue\n",
    "    \n",
    "    "
   ]
  },
  {
   "cell_type": "code",
   "execution_count": 10,
   "metadata": {},
   "outputs": [
    {
     "name": "stdout",
     "output_type": "stream",
     "text": [
      "7\n",
      "8\n",
      "9\n",
      "10\n",
      "11\n"
     ]
    }
   ],
   "source": [
    "a = [7,8,9,10,11]\n",
    "i = 0\n",
    "while i <len(a):\n",
    "    print(a[i], sep=\",\")\n",
    "    i = i+1"
   ]
  },
  {
   "cell_type": "code",
   "execution_count": 1,
   "metadata": {},
   "outputs": [
    {
     "name": "stdout",
     "output_type": "stream",
     "text": [
      "18,-27,36,-45,54,-63"
     ]
    }
   ],
   "source": [
    "18,-27, 36,-45,54,-63\n",
    "counter=18\n",
    "while counter<=63:\n",
    "    if counter%2==0:\n",
    "        print(counter,end=\",\")\n",
    "    else:\n",
    "        if counter==63:\n",
    "            print(\"-\"+ str(counter),end=\"\")\n",
    "        else:\n",
    "            print(\"-\"+str(counter),end=\",\")\n",
    "            \n",
    "    counter+=9"
   ]
  },
  {
   "cell_type": "code",
   "execution_count": 1,
   "metadata": {},
   "outputs": [
    {
     "name": "stdout",
     "output_type": "stream",
     "text": [
      "-55\n"
     ]
    }
   ],
   "source": [
    "sum=0\n",
    "number=int(input(\"Enter the number: \"))\n",
    "for counter in range(1,number+1):\n",
    "    if counter%2==0:\n",
    "        sum=sum-(counter**2)\n",
    "    else:\n",
    "        sum=sum+(counter**2)\n",
    "\n",
    "print(sum)"
   ]
  },
  {
   "cell_type": "code",
   "execution_count": 2,
   "metadata": {},
   "outputs": [
    {
     "name": "stdout",
     "output_type": "stream",
     "text": [
      "1330\n"
     ]
    }
   ],
   "source": [
    "\n",
    "# Python Program to find sum of series\n",
    "# 1^2 + 3^2 + 5^2 + . . . + (2*n - 1)^2.\n",
    " \n",
    "import math\n",
    " \n",
    "# Function to find sum of series.\n",
    "def sumOfSeries(n):\n",
    " \n",
    "    sum = 0\n",
    "    for i in range(1,n+1):\n",
    "        sum = sum + (2 * i - 1) * (2 * i - 1)\n",
    "    return sum\n",
    "     \n",
    "# driver code\n",
    "n= 10\n",
    "print(sumOfSeries(n))\n",
    " \n",
    "# This code is contributed by Gitanjali."
   ]
  },
  {
   "cell_type": "code",
   "execution_count": 13,
   "metadata": {},
   "outputs": [
    {
     "name": "stdout",
     "output_type": "stream",
     "text": [
      "0\n",
      "7\n",
      "14\n",
      "21\n",
      "28\n",
      "35\n",
      "42\n",
      "49\n",
      "56\n",
      "63\n",
      "70\n",
      "3763\n"
     ]
    }
   ],
   "source": [
    "\n",
    "for var in range(75):\n",
    "    if var%7==0:\n",
    "        print(var)\n",
    "sum += var\n",
    "print(sum)"
   ]
  },
  {
   "cell_type": "code",
   "execution_count": 1,
   "metadata": {},
   "outputs": [
    {
     "name": "stdout",
     "output_type": "stream",
     "text": [
      "2\n",
      "4\n",
      "8\n",
      "14\n",
      "21\n"
     ]
    }
   ],
   "source": [
    "result = 0\n",
    "for i in range(5):\n",
    "\n",
    "    userInput=int(input(\"Input Number:\"))\n",
    "    result += userInput\n",
    "    print(result)"
   ]
  },
  {
   "cell_type": "code",
   "execution_count": null,
   "metadata": {},
   "outputs": [],
   "source": [
    "inp=int(input(\"please enter the number=\"))\n",
    "y=[]\n",
    " \n",
    "while(inp>0): \n",
    "    x=inp%10            #getting last digit\n",
    "    y.append(x)        #sending last digit to a list\n",
    "    inp//=10  \n",
    "y.sort(reverse=True)   #sorting the the list in backwards \n",
    "print(*y)\n"
   ]
  },
  {
   "cell_type": "code",
   "execution_count": null,
   "metadata": {},
   "outputs": [],
   "source": [
    "#! divisighjioshfjdgisdfhjg\n",
    "\n",
    "divCount = 0\n",
    "user_input = int(input(\"Put Your Number:\"))\n",
    "\n",
    "for divisor in range (1,user_input+1):\n",
    "    if user_input%divisor==0:\n",
    "        print(divisor,end=\",\")\n",
    "        divCount = divCount+1\n",
    "print()\n",
    "print(\"Total\",divCount,\"divisors\")\n",
    "        "
   ]
  },
  {
   "cell_type": "code",
   "execution_count": null,
   "metadata": {},
   "outputs": [],
   "source": []
  }
 ],
 "metadata": {
  "interpreter": {
   "hash": "a12d694c3ccac42055183a0ad11e659c6a2db5c6555ad2c8919d5814fd4e404f"
  },
  "kernelspec": {
   "display_name": "Python 3.9.5 64-bit",
   "language": "python",
   "name": "python3"
  },
  "language_info": {
   "codemirror_mode": {
    "name": "ipython",
    "version": 3
   },
   "file_extension": ".py",
   "mimetype": "text/x-python",
   "name": "python",
   "nbconvert_exporter": "python",
   "pygments_lexer": "ipython3",
   "version": "3.9.5"
  },
  "orig_nbformat": 4
 },
 "nbformat": 4,
 "nbformat_minor": 2
}
