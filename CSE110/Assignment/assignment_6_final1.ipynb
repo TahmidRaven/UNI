{
  "cells": [
    {
      "cell_type": "code",
      "execution_count": 1,
      "id": "f905e424",
      "metadata": {
        "id": "f905e424",
        "outputId": "8979811a-35cc-4b65-a3e5-c6a841d614a5"
      },
      "outputs": [
        {
          "name": "stdout",
          "output_type": "stream",
          "text": [
            "Odd!!\n"
          ]
        }
      ],
      "source": [
        "#1\n",
        "def even_checker(num):\n",
        "    if num%2==0:\n",
        "        print(\"Even!!\")\n",
        "    else:\n",
        "        print(\"Odd!!\")\n",
        "even_checker(5)"
      ]
    },
    {
      "cell_type": "code",
      "execution_count": null,
      "id": "2f84f466",
      "metadata": {
        "colab": {
          "base_uri": "https://localhost:8080/"
        },
        "id": "2f84f466",
        "outputId": "43b8d0b6-f8cf-4cd4-f0f6-0a05af265b8d"
      },
      "outputs": [
        {
          "name": "stdout",
          "output_type": "stream",
          "text": [
            "11235813\n"
          ]
        }
      ],
      "source": [
        "#2\n",
        "def fibonacci(limit):\n",
        "    old_value=0\n",
        "    new=1\n",
        "    ans=''\n",
        "    while new<limit:\n",
        "        temp=old_value\n",
        "        ans=ans+str(new)\n",
        "        old_value=new\n",
        "        new=new+temp\n",
        "\n",
        "    return ans\n",
        "        \n",
        "        \n",
        "print(fibonacci(20))"
      ]
    },
    {
      "cell_type": "code",
      "execution_count": null,
      "id": "68a77a98",
      "metadata": {
        "id": "68a77a98",
        "outputId": "373b315e-2116-40ee-ae24-9054b9efcb17"
      },
      "outputs": [
        {
          "name": "stdout",
          "output_type": "stream",
          "text": [
            "Foo\n"
          ]
        }
      ],
      "source": [
        "#3\n",
        "def foo_moo(num):\n",
        "    if num%2==0 and num%3==0:\n",
        "        return \"FooMoo\"\n",
        "    elif num%3==0:\n",
        "        return \"Moo\"\n",
        "    elif num%2==0:\n",
        "        return \"Foo\"\n",
        "    else:\n",
        "        return \"boo\"\n",
        "        \n",
        "        \n",
        "print(foo_moo(4))\n",
        "        "
      ]
    },
    {
      "cell_type": "code",
      "execution_count": null,
      "id": "5c20df6f",
      "metadata": {
        "colab": {
          "base_uri": "https://localhost:8080/"
        },
        "id": "5c20df6f",
        "outputId": "a9aa27ee-322d-4091-e65f-96e960c59950"
      },
      "outputs": [
        {
          "name": "stdout",
          "output_type": "stream",
          "text": [
            "No. of Uppercase characters :  3\n",
            "No. of Loqercase characters :  12\n"
          ]
        }
      ],
      "source": [
        "#4\n",
        "def case_count(string1):\n",
        "    upper=0\n",
        "    lower=0\n",
        "    for case in string1:\n",
        "        if case>='A' and case<='Z':\n",
        "            upper+=1\n",
        "        elif case>='a' and case<='z':\n",
        "            lower+=1\n",
        "    print(\"No. of Uppercase characters : \",upper)\n",
        "    print(\"No. of Loqercase characters : \",lower)\n",
        "    \n",
        "case_count('The quick Sand Man')"
      ]
    },
    {
      "cell_type": "code",
      "execution_count": null,
      "id": "5f0d4c8e",
      "metadata": {
        "colab": {
          "base_uri": "https://localhost:8080/"
        },
        "id": "5f0d4c8e",
        "outputId": "15305381-4264-41aa-b5b2-0ec3e95152e6"
      },
      "outputs": [
        {
          "name": "stdout",
          "output_type": "stream",
          "text": [
            "2800.0\n"
          ]
        }
      ],
      "source": [
        "#5\n",
        "def calculate_tax(age,salary,designation):\n",
        "    designation=designation.lower()\n",
        "    if age<18 or designation==\"president\":\n",
        "        return 0\n",
        "    elif salary<10000:\n",
        "        return 0\n",
        "        \n",
        "    elif salary>=10000 and salary<= 20000:\n",
        "        tax=salary*5/100\n",
        "        return tax\n",
        "    elif salary>20000:\n",
        "        tax=salary*10/100\n",
        "        return tax\n",
        "print(calculate_tax(20, 28000, 'pident'))\n",
        "        "
      ]
    },
    {
      "cell_type": "code",
      "execution_count": 2,
      "id": "b09bfd9f",
      "metadata": {
        "colab": {
          "base_uri": "https://localhost:8080/"
        },
        "id": "b09bfd9f",
        "outputId": "5b52712e-2a7f-4ce0-f341-74b414b75ef1"
      },
      "outputs": [
        {
          "name": "stdout",
          "output_type": "stream",
          "text": [
            "11\n",
            "315\n",
            "11 years, 10 months and 15 days\n"
          ]
        }
      ],
      "source": [
        "#6\n",
        "def daycount(day):\n",
        "    year=day//365   \n",
        "    print(year) \n",
        "    left=day-(365*year)\n",
        "    print(left)\n",
        "    month=left//30\n",
        "    left=left-(30*month)\n",
        "    print(year,\"years,\",month,\"months and\",left,\"days\")\n",
        "\n",
        "daycount(4330)"
      ]
    },
    {
      "cell_type": "code",
      "execution_count": null,
      "id": "acf2e18a",
      "metadata": {
        "colab": {
          "base_uri": "https://localhost:8080/"
        },
        "id": "acf2e18a",
        "outputId": "c55e2b65-401e-44e7-f255-5ad586377bc4"
      },
      "outputs": [
        {
          "name": "stdout",
          "output_type": "stream",
          "text": [
            "123454321\n"
          ]
        }
      ],
      "source": [
        "#7\n",
        "def show_palindrome(num):    \n",
        "    const=1\n",
        "    end=1\n",
        "    output=''       \n",
        "    while const<num:\n",
        "        output=output+str(const)\n",
        "        const+=1\n",
        "     \n",
        "     \n",
        "    while const>=end:\n",
        "        output=output+str(const)\n",
        "        const-=1\n",
        "      \n",
        "\n",
        "    return output  \n",
        "        \n",
        "print(show_palindrome(5))\n",
        "        \n"
      ]
    },
    {
      "cell_type": "code",
      "execution_count": null,
      "id": "357ccbac",
      "metadata": {
        "colab": {
          "base_uri": "https://localhost:8080/"
        },
        "id": "357ccbac",
        "outputId": "db0bd909-e8f5-4bef-ec06-730a59c4973e"
      },
      "outputs": [
        {
          "name": "stdout",
          "output_type": "stream",
          "text": [
            "please enter a number =6\n",
            "            1 \n",
            "          1 2 1 \n",
            "        1 2 3 2 1 \n",
            "      1 2 3 4 3 2 1 \n",
            "    1 2 3 4 5 4 3 2 1 \n",
            "  1 2 3 4 5 6 5 4 3 2 1 \n"
          ]
        }
      ],
      "source": [
        "#8\n",
        "def show_palindrome(num):    \n",
        "    const=1\n",
        "    end=1\n",
        "    output=''    \n",
        "    \n",
        "    while const<num:\n",
        "        output=output+str(const)\n",
        "        output=output+' '\n",
        "        const+=1          \n",
        "    while const>=end:\n",
        "        output=output+str(const)\n",
        "        output=output+' '\n",
        "        const-=1     \n",
        "    return output  \n",
        "\n",
        "user_input=int(input(\"please enter a number =\"))\n",
        "\n",
        "for i in range (user_input):\n",
        "    i+=1\n",
        "    print(' '*user_input*2,end='')\n",
        "    user_input-=1\n",
        "    print(show_palindrome(i))\n",
        "\n",
        "\n",
        "  \n"
      ]
    },
    {
      "cell_type": "code",
      "execution_count": null,
      "id": "nGipgnNMHSFx",
      "metadata": {
        "colab": {
          "base_uri": "https://localhost:8080/"
        },
        "id": "nGipgnNMHSFx",
        "outputId": "a3d97738-7e7e-47a5-f456-d706661f4338"
      },
      "outputs": [
        {
          "name": "stdout",
          "output_type": "stream",
          "text": [
            "   1\n",
            "  121\n",
            " 12321\n"
          ]
        }
      ],
      "source": [
        "#alt 8\n",
        "def show_palindrome(num):    \n",
        "    const=1\n",
        "    end=1\n",
        "    output=''    \n",
        "    \n",
        "    while const<num:\n",
        "        output=output+str(const)\n",
        "        const+=1          \n",
        "    while const>=end:\n",
        "        output=output+str(const)\n",
        "        const-=1     \n",
        "    return output  \n",
        "    \n",
        "def show_palindromic_triangle(user_input):\n",
        "\n",
        "    for i in range (user_input):\n",
        "        i+=1\n",
        "        print(' '*user_input,end='')\n",
        "        user_input-=1\n",
        "        print(show_palindrome(i))\n",
        "\n",
        "show_palindromic_triangle(3)"
      ]
    },
    {
      "cell_type": "code",
      "execution_count": null,
      "id": "BqXZ60t3GpzS",
      "metadata": {
        "colab": {
          "base_uri": "https://localhost:8080/"
        },
        "id": "BqXZ60t3GpzS",
        "outputId": "46bca696-0274-4841-8d18-c251a2038606"
      },
      "outputs": [
        {
          "name": "stdout",
          "output_type": "stream",
          "text": [
            "(3.142857142857143, 6.285714285714286)\n",
            "Area of the circle is 3.142857142857143 and circumference is 6.285714285714286\n"
          ]
        }
      ],
      "source": [
        "#9\n",
        "def area_circumference_generator(radius):\n",
        "    circumference = 2*(22/7)*radius\n",
        "    area=(22/7)*radius*radius\n",
        "\n",
        "    info=(area,circumference)\n",
        "    return info\n",
        "\n",
        "print(area_circumference_generator(1))\n",
        "print(\"Area of the circle is\",area_circumference_generator(1)[0],\"and circumference is\",area_circumference_generator(1)[1])\n",
        "    "
      ]
    },
    {
      "cell_type": "code",
      "execution_count": null,
      "id": "H6pZGxmdjcnk",
      "metadata": {
        "colab": {
          "base_uri": "https://localhost:8080/"
        },
        "id": "H6pZGxmdjcnk",
        "outputId": "919d2d28-154f-45eb-c7fa-4d90dbe69847"
      },
      "outputs": [
        {
          "name": "stdout",
          "output_type": "stream",
          "text": [
            "{1: 1, 2: 4, 3: 9}\n"
          ]
        }
      ],
      "source": [
        "#10\n",
        "\n",
        "def make_square(tup):\n",
        "    tup=list(tup)\n",
        "    tup[1]=tup[1]+1\n",
        "\n",
        "    dict1={}\n",
        "    for i in range(tup[0],tup[1]):\n",
        "        sqr=int(i)*int(i)        \n",
        "        dict1.update({i:sqr})\n",
        "    return dict1\n",
        "\n",
        "print(make_square((1,3)))\n"
      ]
    },
    {
      "cell_type": "code",
      "execution_count": null,
      "id": "P_LHwJ60oTJ5",
      "metadata": {
        "colab": {
          "base_uri": "https://localhost:8080/"
        },
        "id": "P_LHwJ60oTJ5",
        "outputId": "b2e10111-4a05-4eac-f55c-4e82f1864e59"
      },
      "outputs": [
        {
          "name": "stdout",
          "output_type": "stream",
          "text": [
            "(1, 2, 3, 4, 5, 6, 0)\n"
          ]
        }
      ],
      "source": [
        "#11\n",
        "def rem_duplicate(tuple1):\n",
        "    list1=[]\n",
        "    temp=[]\n",
        "\n",
        "    for j in tuple1:\n",
        "        if j not in temp:\n",
        "            temp.append(j)\n",
        "        \n",
        "    temp=tuple(temp)\n",
        "    return temp\n",
        "print(rem_duplicate((1,1,1,2,3,4,5,6,6,6,6,4,0,0,0)))\n"
      ]
    },
    {
      "cell_type": "code",
      "execution_count": null,
      "id": "NMKqGYngu_qM",
      "metadata": {
        "colab": {
          "base_uri": "https://localhost:8080/"
        },
        "id": "NMKqGYngu_qM",
        "outputId": "49320590-a20e-4e82-a543-6270c0bbac4c"
      },
      "outputs": [
        {
          "name": "stdout",
          "output_type": "stream",
          "text": [
            "Removed 2 [1, 2, 3, 3, 4, 5, 8, 8]\n",
            "end\n"
          ]
        }
      ],
      "source": [
        "#12 h\n",
        "def rem_duplicate(list1):\n",
        "    count=0\n",
        "    newlist=[]\n",
        "    for item in list1:\n",
        "        if newlist.count(item)<=1:\n",
        "            newlist.append(item)\n",
        "        else :\n",
        "            count+=1    \n",
        "    print(\"Removed\",count,newlist)\n",
        "    return newlist\n",
        "\n",
        "    \n",
        "rem_duplicate([1, 2, 3, 3, 3, 3, 4, 5, 8, 8])\n",
        "print('end')"
      ]
    },
    {
      "cell_type": "code",
      "execution_count": null,
      "id": "9ffaaf35",
      "metadata": {
        "colab": {
          "base_uri": "https://localhost:8080/"
        },
        "id": "9ffaaf35",
        "outputId": "33ad8898-3e3f-4be4-8ff9-6a6a45e828a4"
      },
      "outputs": [
        {
          "name": "stdout",
          "output_type": "stream",
          "text": [
            "Enter your Oparetor+\n",
            "Enter your First Number3.2\n",
            "Enter your Second Number4.3\n",
            "7.5\n"
          ]
        }
      ],
      "source": [
        "#13\n",
        "oparetor=input(\"Enter your Oparetor=\")\n",
        "num1=float(input(\"Enter your First Number=\"))\n",
        "num2=float(input(\"Enter your Second Number=\"))\n",
        "\n",
        "def basic_cal(oparetor,num1,num2):\n",
        "    if oparetor=='+':\n",
        "        return num1+num2\n",
        "    elif oparetor=='-':\n",
        "        return num1-num2\n",
        "    elif oparetor=='*':\n",
        "        return num1*num2\n",
        "    elif oparetor=='/':\n",
        "        return num1/num2\n",
        "    else:\n",
        "        return 'Wrong Oparetor !!!'\n",
        "\n",
        "print(basic_cal(oparetor,num1,num2))"
      ]
    },
    {
      "cell_type": "code",
      "execution_count": null,
      "id": "L7rKX_43R5PR",
      "metadata": {
        "colab": {
          "base_uri": "https://localhost:8080/"
        },
        "id": "L7rKX_43R5PR",
        "outputId": "5d6456c8-d179-4c3f-a2f4-417da1649482"
      },
      "outputs": [
        {
          "name": "stdout",
          "output_type": "stream",
          "text": [
            "I lveprgrmmngo oai.\n"
          ]
        }
      ],
      "source": [
        "#14\n",
        "def rem_pos(sentence,pos):\n",
        "    new_sent=''\n",
        "    add_sent=''\n",
        "    for i in range(0,len(sentence)):\n",
        "        if i%pos !=0 or i==0:\n",
        "            new_sent=new_sent+sentence[i]\n",
        "        elif i%pos ==0:\n",
        "            add_sent=add_sent+sentence[i]\n",
        "\n",
        "    return new_sent+add_sent\n",
        "print(rem_pos(\"I love programming.\",3))"
      ]
    },
    {
      "cell_type": "code",
      "execution_count": 3,
      "id": "06Wz8ORBiCJ0",
      "metadata": {
        "colab": {
          "base_uri": "https://localhost:8080/"
        },
        "id": "06Wz8ORBiCJ0",
        "outputId": "d4c9ef5f-224b-428f-d5a2-d71710202f01"
      },
      "outputs": [
        {
          "name": "stdout",
          "output_type": "stream",
          "text": [
            "790\n"
          ]
        }
      ],
      "source": [
        "#15\n",
        "def grocery(item,location=\"Dhanmondi\"):\n",
        "    dict1 = {\"Rice\" : 105,\n",
        "        \"Potato\" : 20,\n",
        "        \"Chicken\" : 250,\n",
        "        \"Beef\" : 510,\n",
        "        \"Oil\" : 85}\n",
        "    sum = 0\n",
        "    for i in item:\n",
        "        sum += dict1.get(i) \n",
        "\n",
        "    if location.lower() == \"dhanmondi\" or location == None:\n",
        "        charge = 30\n",
        "    else:\n",
        "        charge = 70\n",
        "    print(sum+charge)\n",
        "\n",
        "grocery([\"Rice\", \"Beef\", \"Rice\"], \"Mohakhali\")\n"
      ]
    },
    {
      "cell_type": "code",
      "execution_count": null,
      "id": "P7CAnpQeA953",
      "metadata": {
        "colab": {
          "base_uri": "https://localhost:8080/"
        },
        "id": "P7CAnpQeA953",
        "outputId": "cf020226-6589-4f46-f1ab-07764bfae275"
      },
      "outputs": [
        {
          "name": "stdout",
          "output_type": "stream",
          "text": [
            "500Taka:2note(s)100Taka:2note(s)50Taka:0note(s)20Taka:1note(s)10Taka:1note(s)5Taka:0note(s)2Taka:2note(s)1Taka:0note(s)\n"
          ]
        }
      ],
      "source": [
        "# 23\n",
        "def splitting_money(money):\n",
        "    fiveh=money//500\n",
        "    left=money%500\n",
        "    oneh=left//100\n",
        "    left=left%100\n",
        "    fifty=left//50\n",
        "    left=left%50\n",
        "    twienty=left//20\n",
        "    left=left%20\n",
        "    ten=left//10\n",
        "    left=left%10\n",
        "    five=left//5\n",
        "    left=left%5\n",
        "    two=left//2\n",
        "    left=left%2\n",
        "\n",
        "    output='500Taka:'+str(fiveh)+'note(s)'+'100Taka:'+str(oneh)+'note(s)'+'50Taka:'+str(fifty)+'note(s)'+'20Taka:'+str(twienty)+'note(s)'+'10Taka:'+str(ten)+'note(s)'+'5Taka:'+str(five)+'note(s)'+'2Taka:'+str(two)+'note(s)'+'1Taka:'+str(left)+'note(s)'\n",
        "\n",
        "    print(output)\n",
        "splitting_money(1234)\n"
      ]
    },
    {
      "cell_type": "code",
      "execution_count": null,
      "id": "C_ww4QSDGHCU",
      "metadata": {
        "colab": {
          "base_uri": "https://localhost:8080/"
        },
        "id": "C_ww4QSDGHCU",
        "outputId": "ed5d642b-c169-4341-cfd2-b5d1fb26203e"
      },
      "outputs": [
        {
          "name": "stdout",
          "output_type": "stream",
          "text": [
            "[44, 66, 88, 10]\n"
          ]
        }
      ],
      "source": [
        "def remove_odd(list1):\n",
        "    flist=[]\n",
        "    for i in range(len(list1)):\n",
        "        if list1[i]%2 ==0:\n",
        "            flist.append(list1[i])\n",
        "    return flist\n",
        "\n",
        "print(remove_odd([21, 33, 44, 66, 11, 1, 88, 45, 10, 9]))"
      ]
    },
    {
      "cell_type": "code",
      "execution_count": null,
      "id": "WCi8ZfL8oBIC",
      "metadata": {
        "colab": {
          "base_uri": "https://localhost:8080/"
        },
        "id": "WCi8ZfL8oBIC",
        "outputId": "ff351c5c-c639-43b2-8ec2-632155dbb186"
      },
      "outputs": [
        {
          "name": "stdout",
          "output_type": "stream",
          "text": [
            "<--53-->4\n",
            "-->1-->13\n",
            "<--53-->4\n",
            "-->1-->11\n",
            "-->2-->13\n",
            "<--63-->4\n",
            "-->2-->11\n",
            "<--73-->4\n",
            "-->2-->11\n",
            "-->2-->11\n"
          ]
        }
      ],
      "source": [
        "test = \"\"\n",
        "i = 5\n",
        "j = 0\n",
        "k = 15\n",
        "while (i< 10): \n",
        "    k-=1\n",
        "    j = k\n",
        "    while (j > 10 ):\n",
        "        if j % 2 == 0:\n",
        "            test = \"<--\"\n",
        "            test = test + str(i) + '3' + \"-->\" + str(j // 3)\n",
        "        else:\n",
        "            test = \"-->\"\n",
        "            test = \"-->\" + str((i // 3)) + test + str(j)\n",
        "        print(test)\n",
        "        j -=1\n",
        "    i+=1\n",
        "\n"
      ]
    },
    {
      "cell_type": "code",
      "execution_count": null,
      "id": "iCbgVeDGsXl0",
      "metadata": {
        "colab": {
          "base_uri": "https://localhost:8080/"
        },
        "id": "iCbgVeDGsXl0",
        "outputId": "b76a6a25-9757-43b4-dcf1-fa994ddfb099"
      },
      "outputs": [
        {
          "name": "stdout",
          "output_type": "stream",
          "text": [
            "5 == 5\n",
            "2 == 2\n",
            "0 == 0\n",
            "-3 != -2\n",
            "-5 != -5\n",
            "-8 != -7\n",
            "-10 != -10\n"
          ]
        }
      ],
      "source": [
        "i = 10\n",
        "while(i >= -20):\n",
        "  if(i < 0):\n",
        "    test = \" != \"\n",
        "    test = str(i//2) + test + str(int(i/2))\n",
        "  else:\n",
        "    test = \" == \"\n",
        "    test = str(i//2) + test + str(int(i/2))\n",
        "  print(test)\n",
        "  i -= 5\n",
        "\n"
      ]
    }
  ],
  "metadata": {
    "colab": {
      "name": "assignment 6 final.ipynb",
      "provenance": []
    },
    "kernelspec": {
      "display_name": "Python 3 (ipykernel)",
      "language": "python",
      "name": "python3"
    },
    "language_info": {
      "codemirror_mode": {
        "name": "ipython",
        "version": 3
      },
      "file_extension": ".py",
      "mimetype": "text/x-python",
      "name": "python",
      "nbconvert_exporter": "python",
      "pygments_lexer": "ipython3",
      "version": "3.9.5"
    }
  },
  "nbformat": 4,
  "nbformat_minor": 5
}
